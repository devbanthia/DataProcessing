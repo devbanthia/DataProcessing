{
 "cells": [
  {
   "cell_type": "markdown",
   "id": "5a6b0940",
   "metadata": {},
   "source": [
    "# Coursework 2\n",
    "\n",
    "### PLAGIARISM/COLLUSION DECLARATION\n",
    "\n",
    " \n",
    "\n",
    "Coursework submitted for assessment must be the original work of you and your group. Assignments are subjected to regular checks for plagiarism and/or collusion. Plagiarism is the presentation of another person’s thoughts or words (those outside your group) as if they were your own. Collusion involves obtaining help from someone outside your group to complete your work. In preparing your coursework, you should not seek help, or copy from any other person or source, including the\n",
    "\n",
    "Internet, without proper and explicit acknowledgement.\n",
    "\n",
    " \n",
    "\n",
    "There is a procedure in place for you to declare individual contributions within your group for courswork. You must declare the contributions fairly and accurately.\n",
    "\n",
    " \n",
    "\n",
    "You must not disclose your solutions or insights related to coursework with anyone else, including future students or the Internet.\n",
    "\n",
    " \n",
    "\n",
    "By acknowledging the the statements above, you are declaring that both this and all subsequent pieces of coursework are, and will remain, the original work of you and your group.\n",
    "\n",
    " \n",
    "\n",
    "* Submissions will not be accepted without the aforementioned declaration.\n",
    "\n",
    " \n",
    "\n",
    "* Members of a group are deemed to have collective responsibility for the integrity for work submitted and are liable for any penalty imposed, proportionate to their contributions."
   ]
  },
  {
   "cell_type": "code",
   "execution_count": 2,
   "id": "156ebb80",
   "metadata": {},
   "outputs": [],
   "source": [
    "using JLD2,FileIO"
   ]
  },
  {
   "cell_type": "code",
   "execution_count": 3,
   "id": "b570716e",
   "metadata": {},
   "outputs": [
    {
     "data": {
      "text/plain": [
       "CourseWork_2"
      ]
     },
     "metadata": {},
     "output_type": "display_data"
    }
   ],
   "source": [
    "Base.@kwdef mutable struct CourseWork_2\n",
    "    CID::Int\n",
    "    Plagiarism_declare::Union{Missing,Bool}\n",
    "    \n",
    "    # 7.1 Estimation Accuracy\n",
    "    \n",
    "    Q7_1_data_A::Matrix{Float64}\n",
    "    \n",
    "    Q7_1_a_ans_w::Union{Missing,Vector}\n",
    "    Q7_1_a_ans_err::Union{Missing,Float64}\n",
    "    Q7_1_b_ans_w::Union{Missing,Vector}\n",
    "    Q7_1_b_ans_err::Union{Missing,Float64}\n",
    "    Q7_1_c_ans_err::Union{Missing,Float64}\n",
    "    \n",
    "     # 7.2 Greedy Algorithms\n",
    "    \n",
    "    Q7_2_1_data_y::Vector\n",
    "    Q7_2_1_data_A::Matrix\n",
    "    Q7_2_1_data_S::Int\n",
    "    \n",
    "    Q7_2_1_ans_x::Union{Missing,Vector}\n",
    "    \n",
    "    Q7_2_2_data_y::Vector\n",
    "    Q7_2_2_data_A::Matrix\n",
    "    Q7_2_2_data_S::Int\n",
    "    \n",
    "    Q7_2_2_ans_x::Union{Missing,Vector}\n",
    "    \n",
    "    Q7_2_3_data_y::Vector\n",
    "    Q7_2_3_data_A::Matrix\n",
    "    Q7_2_3_data_S::Int\n",
    "    \n",
    "    Q7_2_3_ans_x::Union{Missing,Vector}\n",
    "    \n",
    "    # 8.1 The MOD Method\n",
    "    \n",
    "    Q8_1_data_Y::Matrix\n",
    "    Q8_1_data_D0::Matrix\n",
    "    Q8_1_data_C0::Matrix\n",
    "    Q8_1_data_s::Int\n",
    "    \n",
    "    Q8_1_1_ans_Comp::Union{Missing,Matrix}\n",
    "    Q8_1_2_ans_Csp::Union{Missing,Matrix}\n",
    "    Q8_1_3_ans_Dmod::Union{Missing,Matrix}\n",
    "    Q8_1_4_ans_C50::Union{Missing,Matrix}\n",
    "    Q8_1_4_ans_D50::Union{Missing,Matrix}\n",
    "    Q8_1_5_ans_f::Union{Missing,Vector}\n",
    "    Q8_1_5_ans_gradf::Union{Missing,Vector}\n",
    "    \n",
    "    # 8.2 The K-SVD Method\n",
    "    \n",
    "    Q8_2_data_Y::Matrix\n",
    "    Q8_2_data_D0::Matrix\n",
    "    Q8_2_data_C0::Matrix\n",
    "    Q8_2_data_s::Int\n",
    "    \n",
    "    Q8_2_1_ans_Ckscd::Union{Missing,Matrix}\n",
    "    Q8_2_1_ans_Dkscd::Union{Missing,Matrix}\n",
    "    Q8_2_2_ans_C50::Union{Missing,Matrix}\n",
    "    Q8_2_2_ans_D50::Union{Missing,Matrix}\n",
    "    Q8_2_3_ans_f::Union{Missing,Vector}\n",
    "    Q8_2_3_ans_gradf::Union{Missing,Vector}\n",
    "    \n",
    "    \n",
    "end"
   ]
  },
  {
   "cell_type": "code",
   "execution_count": 4,
   "id": "30132ba3",
   "metadata": {},
   "outputs": [
    {
     "data": {
      "text/plain": [
       "CourseWork_2(2016674, missing, [6.241721161255183 4.3833479018275625 … 4.723291032514396 4.914933966242956; 4.3833479018275625 5.3441149344285925 … 4.036482479841339 4.420052371130021; … ; 4.723291032514396 4.036482479841339 … 5.556818064841123 5.449901584843792; 4.914933966242956 4.420052371130021 … 5.449901584843792 6.290400040766449], missing, missing, missing, missing, missing, [-0.3215142162434899, -0.20743986111955076, -0.30010762842848554, -0.1939895552625288, -0.01582866928981454, 0.28938805764103565, -0.28713189963215413, 0.41984134379947163, 0.08984779465282412, 0.14479291759338486  …  0.40827803074088553, -0.18181724355398374, -0.19863724476373407, -0.2992676053064818, 0.787511268319871, -0.07480016676901381, 0.09416225164505233, -0.2368429034702739, 0.23901562132959572, 0.06080053200024716], [0.18395762760195788 0.02944481109789814 … 0.2989090159651482 -0.08513575777754952; 0.0015069902494225485 0.15299668583435583 … 0.22196583253548793 0.21083156219927665; … ; 0.22609852256773671 0.22570439282709803 … -0.06543622007112555 -0.1681073534520707; -0.40731413381515863 -0.021528511793161818 … -0.06527474930557718 -0.1643785044395163], 5, missing, [-0.4730728915218284, 0.1807644114707305, -0.46635007797915745, 0.4324379765110905, -0.24077408193781039, -0.07385751473854191, 0.23773349526895907, 0.49262663461874395, -0.2899425662628726, 0.4120312596978082  …  -0.35977811061937215, -0.926155591821151, 0.46683676222003706, 0.5147204867929035, 0.0018750949366383076, 0.5417889790348028, 0.48367778442000015, 0.17128954369874208, -0.006145227296313905, -0.41440846333681786], [0.1430885980786953 0.11917719209144047 … 0.11030340743016152 -0.02626076992616556; 0.15834601456944625 0.18735665734384066 … 0.3543032792546317 0.02085253919744879; … ; 0.07618143090835128 -0.05489274565318981 … 0.24864935431230484 -0.10720530541019355; 0.2513008349163079 0.06733747690145427 … -0.11425928722820645 -0.08633726334916933], 5, missing, [-0.0778024239767281, -1.0441785468380986, 1.205076026495926, 0.17250493644922552, -0.7433812536265121, 0.17732290959874686, 0.7260415719921159, -0.4668326437325617, -0.19683554437089706, 0.5289538603890303  …  -0.10586387876473886, 0.18394434280752361, -0.7171379291254371, -0.13742743642732355, 0.38367639547986493, 0.3835403613721184, -0.2513802919090569, 0.6294571662858418, -0.21396356435868688, 0.29572235432504956], [-0.14619735573776854 -0.09365171960592404 … 0.11231230739545486 -0.15523795414299205; 0.02206923163083247 -0.14000374599162485 … 0.0695115588258295 0.44025511908362164; … ; -0.16491418373478117 0.07040413270673077 … 0.14090170452869544 -0.07016892428603932; -0.061982805656385975 -0.14545548173984288 … -0.05688404880848328 0.07078628613210938], 5, missing, [-1.0757534960451636 1.073930224727586 … 0.8613343208948991 -0.0827021579796942; -0.9455785713211015 0.8216893126301837 … -0.1455788915180197 -0.1637223248463922; … ; 0.4220370312275441 -0.2003670539705813 … -0.36476546191046005 -1.9360578874070908; -1.099692703473783 0.5680146644425726 … -2.033997283802872 -1.2221160350992495], [-0.6900289362764495 -0.7476942030007173 … -0.6608121355178559 -0.07696421512665283; -0.9946143235693797 -0.12339273259587709 … -0.8375321641380986 0.05777864759506001; … ; -0.06911437347767141 -1.2801303496500716 … 0.07766645322507922 -1.0123915528101823; 0.18816722120421175 0.35781838796873133 … 0.3123118783935524 -1.6351290058343169], [0.0 0.0 … 0.0 0.0; 0.0 0.0 … 0.0 0.0; … ; 1.6655611299924797 0.0 … 0.0 0.0; 0.0 0.0 … 0.0 0.0], 5, missing, missing, missing, missing, missing, missing, missing, [-1.6543240497615335 -1.0198885487868967 … -0.24051805482024383 0.4921316430268103; -1.3787858630495586 -0.0159074468517432 … -0.8404965668128592 0.34925946335047664; … ; 0.544096906794678 0.24176532013015814 … 0.3172135711891516 -0.2998416009736069; -0.22302015578695894 -0.41429282853525184 … 1.641763319902031 0.033874441179168935], [0.23010132045454645 -0.06370408342076789 … -0.29191590714837135 -0.3735715392150687; -0.21700528945658287 0.1757615493402537 … -0.332278074541278 0.06311281749922029; … ; 0.26378244985275295 -0.13857168058431882 … -0.17305956094582828 -0.24394223970787662; 0.09152488794735854 0.007798862853729729 … -0.19375483962903126 0.12209814493154918], [0.0 0.0 … 0.0 0.0; 0.0 0.0 … 0.0 0.0; … ; -3.225949469877689 0.0 … 0.0 1.1804334507587178; 0.0 0.0 … 0.0 0.0], 5, missing, missing, missing, missing, missing, missing)"
      ]
     },
     "metadata": {},
     "output_type": "display_data"
    }
   ],
   "source": [
    "\n",
    "\n",
    "\n",
    "A = JLD2.load(\"Banthia Dev2016674StudentFile.jld2\");\n",
    "\n",
    "A = A[\"CourseWork_2\"];\n",
    "\n",
    "A\n",
    " \n",
    "\n",
    "# jldopen(\"xxx.jld2\", \"w\") do file\n",
    "\n",
    "#    write(file, \"CourseWork_2\", A)\n",
    "\n",
    "# end"
   ]
  },
  {
   "cell_type": "markdown",
   "id": "6861a416",
   "metadata": {},
   "source": [
    "## 7.1. Estimation Accuracy\n"
   ]
  },
  {
   "cell_type": "markdown",
   "id": "90b22aba",
   "metadata": {},
   "source": [
    "### 1. (a)"
   ]
  },
  {
   "cell_type": "code",
   "execution_count": 64,
   "id": "ee609657",
   "metadata": {},
   "outputs": [
    {
     "name": "stdout",
     "output_type": "stream",
     "text": [
      "(16, 16)\n"
     ]
    }
   ],
   "source": [
    "# save your answers in Q7_1_a_ans_w and Q7_1_a_ans_err\n",
    "A_matrix = A.Q7_1_data_A\n",
    "    \n",
    "println(size(A_matrix))\n",
    "    "
   ]
  },
  {
   "cell_type": "markdown",
   "id": "d2cfd18e",
   "metadata": {},
   "source": [
    "### 1. (b)"
   ]
  },
  {
   "cell_type": "code",
   "execution_count": null,
   "id": "fa8a298f",
   "metadata": {},
   "outputs": [],
   "source": [
    "# save your answers in Q7_1_b_ans_w and Q7_1_b_ans_err\n"
   ]
  },
  {
   "cell_type": "markdown",
   "id": "f2c0b5e8",
   "metadata": {},
   "source": [
    "### 1. (c)"
   ]
  },
  {
   "cell_type": "code",
   "execution_count": 1,
   "id": "9674d13e",
   "metadata": {},
   "outputs": [],
   "source": []
  },
  {
   "cell_type": "markdown",
   "id": "678c1375",
   "metadata": {},
   "source": [
    "## 7.2. Greedy Algorithms"
   ]
  },
  {
   "cell_type": "markdown",
   "id": "c624748e",
   "metadata": {},
   "source": [
    "### 1"
   ]
  },
  {
   "cell_type": "code",
   "execution_count": 8,
   "id": "a33173ff",
   "metadata": {},
   "outputs": [
    {
     "name": "stdout",
     "output_type": "stream",
     "text": [
      "3.4656015837917082\n"
     ]
    }
   ],
   "source": [
    "using LinearAlgebra\n",
    "\n",
    "\n",
    "y = A.Q7_2_1_data_y\n",
    "A_matrix = A.Q7_2_1_data_A\n",
    "S = A.Q7_2_1_data_S\n",
    "\n",
    "\n",
    "function compute_best_fit_solution(X, y)\n",
    "    return X \\ y  \n",
    "end\n",
    "\n",
    "function expand_support(A, y, k, sparse_set)\n",
    "    correlation = A' * y\n",
    "    top_k = partialsortperm(abs.(correlation), length(correlation) - k + 1:length(correlation))\n",
    "    sparse_set = union(sparse_set, Set(top_k))\n",
    "\n",
    "    return sparse_set\n",
    "end\n",
    "\n",
    "function OMP(A, y, S)\n",
    "    sparse_set = Set{Int}()\n",
    "    residual = y\n",
    "    sparse_solution = zeros(size(A, 2))\n",
    "    x_hat = zeros(length(S))\n",
    "    \n",
    "    for i in 1:S\n",
    "        correlation = A' * residual\n",
    "        S_max = sortperm(abs.(correlation), rev=true)[i]\n",
    "        push!(sparse_set, S_max)\n",
    "\n",
    "        col_indices = collect(sparse_set)\n",
    "        A_subset = A[:, col_indices]\n",
    "\n",
    "        x_hat = compute_best_fit_solution(A_subset, y)\n",
    "\n",
    "    end\n",
    "\n",
    "    for (i, j) in zip(sparse_set, x_hat)\n",
    "        sparse_solution[i] = j\n",
    "    end\n",
    "\n",
    "    return sparse_solution\n",
    "end\n",
    "\n",
    "sparse_solution = OMP(A_matrix, y , S)\n",
    "residual = y - A_matrix * sparse_solution\n",
    "println(sum(abs.(residual)))\n",
    "A.Q7_2_1_ans_x = sparse_solution\n",
    "    "
   ]
  },
  {
   "cell_type": "markdown",
   "id": "adf33d97",
   "metadata": {},
   "source": [
    "### 2"
   ]
  },
  {
   "cell_type": "code",
   "execution_count": 9,
   "id": "d63e9a83",
   "metadata": {},
   "outputs": [
    {
     "data": {
      "text/plain": [
       "74-element Vector{Float64}:\n",
       " 0.0\n",
       " 0.0\n",
       " 0.0\n",
       " 0.0\n",
       " 0.0\n",
       " 0.0\n",
       " 0.0\n",
       " 0.0\n",
       " 0.0\n",
       " 0.0\n",
       " ⋮\n",
       " 0.0\n",
       " 0.0\n",
       " 0.0\n",
       " 1.0651807642497881\n",
       " 0.0\n",
       " 0.0\n",
       " 0.0\n",
       " 0.0\n",
       " 0.0"
      ]
     },
     "metadata": {},
     "output_type": "display_data"
    }
   ],
   "source": [
    "function SMP(A, y, k, C = nothing)\n",
    "\n",
    "    sparse_set = Set()\n",
    "    sparse_solution = zeros(size(A, 2))\n",
    "\n",
    "    if C == nothing \n",
    "        sparse_set = expand_support(A, y, k, sparse_set)\n",
    "  \n",
    "\n",
    "    else\n",
    "        residual = y - A*C\n",
    "        sparse_set = expand_support(A, residual, k, sparse_set)\n",
    "    end\n",
    "\n",
    "    A_subset = A[:, collect(sparse_set)]\n",
    "    x_hat = compute_best_fit_solution(A_subset, y)\n",
    "    residual = y - A_subset * x_hat\n",
    "\n",
    "\n",
    "    n = 10\n",
    "    for i in 1:n \n",
    "        sparse_set = expand_support(A, residual, k, sparse_set)\n",
    "        A_subset = A[:, collect(sparse_set)]\n",
    "        x_hat = compute_best_fit_solution(A_subset, y)\n",
    "        \n",
    "        # Get k most significant indices\n",
    "        k_most_significant_x = partialsortperm(abs.(x_hat), 1:k, rev=true)\n",
    "        sparse_set = Set(collect(sparse_set)[k_most_significant_x])\n",
    "        \n",
    "        A_subset = A[:, collect(sparse_set)]\n",
    "        x_hat = compute_best_fit_solution(A_subset, y)\n",
    "        residual = y - A_subset * x_hat\n",
    "    end\n",
    "\n",
    "    for (i, j) in zip(sparse_set, x_hat)\n",
    "        sparse_solution[i] = j\n",
    "    end\n",
    "\n",
    "    return sparse_solution\n",
    "\n",
    "end\n",
    "\n",
    "A.Q7_2_2_ans_x = SMP(A_matrix, y, 5)\n",
    "    \n",
    "\n"
   ]
  },
  {
   "cell_type": "markdown",
   "id": "4fb3e9b3",
   "metadata": {},
   "source": [
    "### 3"
   ]
  },
  {
   "cell_type": "code",
   "execution_count": 10,
   "id": "7e707d5d",
   "metadata": {},
   "outputs": [
    {
     "data": {
      "text/plain": [
       "74-element Vector{Float64}:\n",
       " 0.0\n",
       " 0.0\n",
       " 0.0\n",
       " 0.0\n",
       " 0.0\n",
       " 0.0\n",
       " 0.0\n",
       " 0.0\n",
       " 0.0\n",
       " 0.0\n",
       " ⋮\n",
       " 0.0\n",
       " 0.0\n",
       " 0.0\n",
       " 1.0963889168969245\n",
       " 0.0\n",
       " 0.0\n",
       " 0.0\n",
       " 0.0\n",
       " 0.0"
      ]
     },
     "metadata": {},
     "output_type": "display_data"
    }
   ],
   "source": [
    "using LinearAlgebra\n",
    "\n",
    "function HIT(A, y, k)\n",
    "    x = zeros(size(A, 2)) \n",
    "\n",
    "    for i in 1:10000\n",
    "\n",
    "        x -= 0.01 * (A' * (A * x - y))\n",
    "\n",
    "        top_k_indices = partialsortperm(abs.(x), length(x) - k + 1:length(x))\n",
    "        x[setdiff(1:end, top_k_indices)] .= 0\n",
    "    end\n",
    "\n",
    "    return x\n",
    "end\n",
    "\n",
    "\n",
    "A.Q7_2_3_ans_x = HIT(A_matrix, y, S)\n"
   ]
  },
  {
   "cell_type": "markdown",
   "id": "c3c69679",
   "metadata": {},
   "source": [
    "## 8.1. The MOD Method"
   ]
  },
  {
   "cell_type": "markdown",
   "id": "033f3913",
   "metadata": {},
   "source": [
    "### 1"
   ]
  },
  {
   "cell_type": "code",
   "execution_count": 11,
   "id": "03d8e937",
   "metadata": {},
   "outputs": [
    {
     "data": {
      "text/plain": [
       "construct_C_omp (generic function with 1 method)"
      ]
     },
     "metadata": {},
     "output_type": "display_data"
    }
   ],
   "source": [
    "Y = A.Q8_1_data_Y\n",
    "D0 = A.Q8_1_data_D0\n",
    "C0 = A.Q8_1_data_C0\n",
    "s = A.Q8_1_data_s\n",
    "\n",
    "function construct_C_omp(D0, Y, s)\n",
    "\n",
    "    num_rows = size(D0, 2)\n",
    "    num_cols = size(Y, 2)\n",
    "    C_omp = zeros(num_rows, num_cols)\n",
    "\n",
    "    for i in 1:num_cols\n",
    "        sparse_col = OMP(D0, Y[:,i], s)\n",
    "        C_omp[:, i] = sparse_col\n",
    "    \n",
    "    end\n",
    "\n",
    "    return C_omp\n",
    "\n",
    "end\n",
    "    \n",
    "\n",
    "C_omp = construct_C_omp(D0, Y, s)\n",
    "A.Q8_1_1_ans_Comp = C_omp\n",
    "residual = abs.(Y - D0*C_omp)\n",
    "\n",
    "\n"
   ]
  },
  {
   "cell_type": "markdown",
   "id": "3cc82ff1",
   "metadata": {},
   "source": [
    "### 2"
   ]
  },
  {
   "cell_type": "code",
   "execution_count": 12,
   "id": "cf1f7c65",
   "metadata": {},
   "outputs": [
    {
     "name": "stdout",
     "output_type": "stream",
     "text": [
      "18376.236105330903\n",
      "2094.2245309606624\n"
     ]
    }
   ],
   "source": [
    "function construct_C_smp(D0, Y, s, C0 = nothing)\n",
    "\n",
    "    num_rows = size(D0, 2)\n",
    "    num_cols = size(Y, 2)\n",
    "    C_smp = zeros(num_rows, num_cols)\n",
    "\n",
    "    for i in 1:num_cols\n",
    "\n",
    "        if C0 != nothing\n",
    "            sparse_col = SMP(D0, Y[:,i], s, C0[:, i])\n",
    "        else\n",
    "            sparse_col = SMP(D0, Y[:,i], s)\n",
    "        \n",
    "        end\n",
    "\n",
    "        C_smp[:, i] = sparse_col\n",
    "    \n",
    "    end\n",
    "\n",
    "    return C_smp\n",
    "\n",
    "end\n",
    "\n",
    "residual = abs.(Y - D0*C0)\n",
    "println(sum(residual))\n",
    "\n",
    "\n",
    "C_smp = construct_C_smp(D0, Y, s, C0)\n",
    "A.Q8_1_2_ans_Csp = C_smp\n",
    "residual = abs.(Y - D0*C_smp)\n",
    "println(sum(residual))"
   ]
  },
  {
   "cell_type": "markdown",
   "id": "4be697fe",
   "metadata": {},
   "source": [
    "### 3"
   ]
  },
  {
   "cell_type": "code",
   "execution_count": 13,
   "id": "7b3143e5",
   "metadata": {},
   "outputs": [
    {
     "data": {
      "text/plain": [
       "32×64 Matrix{Float64}:\n",
       "  0.0640119   0.03824     0.0815572  -0.151439   …   0.121214   -0.440008\n",
       "  0.138344    0.0296396  -0.14766    -0.158758       0.0819415  -0.45457\n",
       "  0.138205    0.111268   -0.399663   -0.202758       0.015491   -0.331456\n",
       " -0.169242   -0.050029   -0.167438    0.434493      -0.421986   -0.369665\n",
       " -0.0582565   0.131329   -0.341002    0.095262      -0.0952771   0.200773\n",
       "  0.0131542   0.0280688  -0.210033    0.339975   …   0.380503   -0.126959\n",
       "  0.0676639  -0.240581    0.214364    0.263229       0.252141    0.313172\n",
       " -0.426405   -0.0770443  -0.361647   -0.199696      -0.160853    0.160509\n",
       "  0.193734   -0.0773045   0.126287    0.228234      -0.16662     0.112615\n",
       " -0.104221   -0.0588115   0.0055561   0.082641      -0.542094   -0.124269\n",
       "  ⋮                                              ⋱              \n",
       " -0.120532    0.260977   -0.154781   -0.037346      -0.236694    0.190147\n",
       " -0.427421   -0.0995458  -0.124972   -0.0413386     -0.135161   -0.0987127\n",
       " -0.362939    0.0326951   0.252432   -0.161398   …  -0.3447      0.0590188\n",
       "  0.101075   -0.399679    0.0887968   0.20843        0.522223    0.05766\n",
       " -0.0589985  -0.245149    0.106767   -0.156613       0.10165    -0.137878\n",
       "  0.130218   -0.195487   -0.41609     0.309035       0.0902642  -0.169044\n",
       " -0.149041   -0.0975583   0.10381     0.631733       0.0295046  -0.00737399\n",
       " -0.110337   -0.0486548  -0.0136173  -0.0906661  …  -0.254559    0.0844425\n",
       "  0.139459   -0.245101   -0.0776379   0.0451506     -0.223464    0.187846"
      ]
     },
     "metadata": {},
     "output_type": "display_data"
    }
   ],
   "source": [
    "function DU_mod(Y, C)\n",
    "\n",
    "    return Y * C' * inv(C * C')\n",
    "end\n",
    "\n",
    "D1 = DU_mod(Y, C0)\n",
    "\n",
    "A.Q8_1_3_ans_Dmod = D1\n"
   ]
  },
  {
   "cell_type": "markdown",
   "id": "9e750483",
   "metadata": {},
   "source": [
    "### 4"
   ]
  },
  {
   "cell_type": "code",
   "execution_count": 28,
   "id": "c46a2416",
   "metadata": {},
   "outputs": [
    {
     "data": {
      "text/plain": [
       "([0.0 0.0 … 0.0 0.0; 0.0 0.0 … 0.0 0.0; … ; 0.0 0.0 … 0.0 0.0; 0.0 0.0 … 0.0 0.0], [-4.421185806378285 -1.7086233330544016 … 4.415717672262828 -0.2495166562968832; -5.536335807824002 -3.8891254900399383 … -5.70087409487256 6.140680440851347; … ; -3.3026330755657534 3.2256987653131426 … -3.2165905610164542 1.4418233965211045; 6.279352477161184 -3.02316904917303 … 0.014777468619201335 -3.0283263830927005], [367.72271235658167, 29.04117064826548, 23.660330901404084, 21.306042696422118, 20.454554111746887, 20.11346221705133, 19.296846583423772, 18.340758059268268, 18.622609355405135, 18.36708369125851  …  15.553277103048401, 15.416517017916568, 15.48126312127091, 15.474137551379947, 16.19950048381815, 15.960179213144645, 16.440665513195807, 16.35067153498455, 16.764024310053912, 16.11906904560682], [7085.3040229193, 556.7103697612627, 524.033855960266, 500.51355859556656, 506.52497700520854, 499.9275955671812, 497.47215935531966, 482.36487401729755, 518.0504378101026, 527.4594632269581  …  778.2539889924531, 764.8410355723636, 763.9527496918146, 792.1306274813187, 860.5440329053743, 842.5419356491451, 874.4898756234777, 893.8657190064894, 959.942976934495, 939.0672274900871])"
      ]
     },
     "metadata": {},
     "output_type": "display_data"
    }
   ],
   "source": [
    "function MOD(Y, D0, C0)\n",
    "\n",
    "    D = D0\n",
    "    C_smp = C0\n",
    "    error_vec = zeros(50)\n",
    "    grad_vec = zeros(50)\n",
    "    for i in 1:50\n",
    "        \n",
    "        error, grad = compute_error_and_error_gradient(Y, D, C_smp)\n",
    "        error_vec[i] = error\n",
    "        grad_vec[i] = grad\n",
    "        C_smp = construct_C_smp(D, Y, s, C_smp)\n",
    "        D = DU_mod(Y, C_smp) \n",
    "\n",
    "    end\n",
    "\n",
    "    return C_smp, D, error_vec, grad_vec\n",
    "end\n",
    "\n",
    "C_smp, D, error_vec, grad_vec = MOD(Y, D0, C0)\n",
    "A.Q8_1_4_ans_C50 = C_smp\n",
    "A.Q8_1_4_ans_D50 = D\n",
    "A.Q8_1_5_ans_f = error_vec\n",
    "A.Q8_1_5_ans_gradf = grad_vec\n"
   ]
  },
  {
   "cell_type": "markdown",
   "id": "558fe72c",
   "metadata": {},
   "source": [
    "### 5"
   ]
  },
  {
   "cell_type": "code",
   "execution_count": 1,
   "id": "7df53915",
   "metadata": {},
   "outputs": [
    {
     "data": {
      "text/plain": [
       "compute_error_and_error_gradient (generic function with 1 method)"
      ]
     },
     "metadata": {},
     "output_type": "display_data"
    }
   ],
   "source": [
    "function compute_error_and_error_gradient(Y, D, C)\n",
    "\n",
    "    error_frobenius_norm = norm(Y - D*C, 2)\n",
    "    gradient_frobenius_norm =  norm(D' * (2 * (D * C - Y)), 2)\n",
    "\n",
    "    return error_frobenius_norm, gradient_frobenius_norm \n",
    "\n",
    "end\n",
    "\n",
    "#this cell (4) must be executed before (5)"
   ]
  },
  {
   "cell_type": "markdown",
   "id": "3f6ba8e4",
   "metadata": {},
   "source": [
    "## 8.1. The K-SVD Method"
   ]
  },
  {
   "cell_type": "markdown",
   "id": "01791a06",
   "metadata": {},
   "source": [
    "### 1"
   ]
  },
  {
   "cell_type": "code",
   "execution_count": 30,
   "id": "aad83192",
   "metadata": {},
   "outputs": [
    {
     "data": {
      "text/plain": [
       "([0.4646909182484067 -0.0016333441170462096 … -0.1411270140356412 -0.04381704373172646; -0.0917660673526982 0.08388345884205596 … -0.17895967868267648 -0.008555681606150528; … ; -0.17825166816179577 0.22219720632070966 … 0.02973606137016747 -0.15215178356706058; 0.044091746558773064 -0.10329405224883247 … 0.018999421377672947 -0.24627324141806767], [-4.570117293280661 -1.0355822260394918 … -3.4568177585794535 -21.855284383364282; -2.2352661686436255 -9.018451053830935 … -2.469497987009026 16.78333869819648; … ; 7.30974207795615 0.5049243558676441 … 0.11089869852480955 0.6966051890265408; -0.5774739210500083 -0.9029674477305477 … -0.16509324988118382 -1.8661670110455106])"
      ]
     },
     "metadata": {},
     "output_type": "display_data"
    }
   ],
   "source": [
    "using LinearAlgebra\n",
    "\n",
    "function DU_KSVD(Y, D, C)\n",
    "    num_row, num_col = size(D)\n",
    "\n",
    "    for i in 1:num_col\n",
    "        subset = [j for j in 1:num_col if j != i]\n",
    "        D_subset = D[:, subset]\n",
    "        C_subset = C[subset, :]\n",
    "\n",
    "        E_k = Y - D_subset * C_subset\n",
    "        U, σ, V = svd(E_k; full = false)\n",
    "\n",
    "        d_k = U[:, 1]            \n",
    "        x_k = σ[1] * V'[1, :]  \n",
    "\n",
    "\n",
    "        D[:, i] = d_k\n",
    "        C[i, :] = x_k\n",
    "\n",
    "    end\n",
    "\n",
    "    return D, C\n",
    "end\n",
    "\n",
    "D, C = DU_KSVD(Y, D0, C0)\n",
    "A.Q8_2_1_ans_Ckscd = C\n",
    "A.Q8_2_1_ans_Dkscd = D\n",
    "\n"
   ]
  },
  {
   "cell_type": "markdown",
   "id": "20a0bdf2",
   "metadata": {},
   "source": [
    "### 2"
   ]
  },
  {
   "cell_type": "code",
   "execution_count": 35,
   "id": "d68ba955",
   "metadata": {},
   "outputs": [
    {
     "name": "stdout",
     "output_type": "stream",
     "text": [
      "1382.7156669947447\n",
      "3.8839863369193774\n",
      "4.200421373013536\n",
      "4.062922369533853\n",
      "4.256302781732897\n",
      "3.8849570254136614\n",
      "4.255713956844371\n",
      "4.322577242240439\n",
      "5.080617950530789\n",
      "4.430020724547628\n",
      "4.312312513845453\n",
      "4.445896257822891\n",
      "4.220371773997246\n",
      "4.630509874585338\n",
      "4.795819800725975\n",
      "4.4649093836510545\n",
      "4.693786868423827\n",
      "3.5384276812239\n",
      "4.102665534097116\n",
      "4.090305094148417\n",
      "3.949469193604214\n",
      "3.9304938780715766\n",
      "4.4144208200788855\n",
      "4.715280124315364\n",
      "4.362501735707261\n",
      "4.588763732627711\n",
      "4.9461677073748405\n",
      "5.539718285952647\n",
      "4.562904271087359\n",
      "3.9208487907374816\n",
      "3.8247043550959137\n",
      "4.164429161965966\n",
      "4.024096469443175\n",
      "3.8937633845332695\n",
      "4.138512335325694\n",
      "3.766593067331729\n",
      "3.8263522858241057\n",
      "3.979456289531868\n",
      "3.823072660640951\n",
      "3.8332403616534543\n",
      "3.97370939860861\n",
      "4.223054622799717\n",
      "4.622864199528931\n",
      "4.733132758743583\n",
      "4.866820565457622\n",
      "4.531161827624057\n",
      "4.472393829408084\n",
      "4.609913743343905\n",
      "4.628656940670286\n",
      "4.410662677965223\n"
     ]
    },
    {
     "data": {
      "text/plain": [
       "([1.3254839984118858 0.5106335906955362 … -0.7719729740242341 0.2674404845859863; -0.5018058099754872 0.5406988522522885 … 0.34577718551502784 -0.12331070789806783; … ; 1.8006207962028267 -0.01790828508679607 … -0.0342660658081554 0.05619546906281883; -0.0020541376022258284 -0.05031608189540285 … -0.009001041884577 0.03581932380426637], [-0.11866504354512958 -0.05247038522863262 … -0.027258344022130676 -0.14471245875478123; -0.3071195270485112 0.3540248836591985 … 0.04071919022729903 -0.07592124568805345; … ; 0.06983790730604787 -0.053415564169424765 … -0.004128344428849072 0.04806354636961358; -0.09460847932447014 -0.10519975928278588 … -0.3217291166761832 0.22937152485426293], [468.7216456567793, 1.5315326464764563, 1.6816231065712863, 1.6427205082540222, 1.6871566447497077, 1.544110153747387, 1.6682285910073573, 1.7104152856953405, 2.0121177681215405, 1.7791319938474262  …  1.5924328140688384, 1.6484577605399664, 1.8486439580822491, 1.8889424139736513, 1.9193208175816951, 1.7996156495696785, 1.7780721429580817, 1.8680544128810401, 1.8746284658494874, 1.7262217917933746], [1382.7156669947447, 3.8839863369193774, 4.200421373013536, 4.062922369533853, 4.256302781732897, 3.8849570254136614, 4.255713956844371, 4.322577242240439, 5.080617950530789, 4.430020724547628  …  3.97370939860861, 4.223054622799717, 4.622864199528931, 4.733132758743583, 4.866820565457622, 4.531161827624057, 4.472393829408084, 4.609913743343905, 4.628656940670286, 4.410662677965223])"
      ]
     },
     "metadata": {},
     "output_type": "display_data"
    }
   ],
   "source": [
    "function K_SVD(Y, D0, C0)\n",
    "\n",
    "    D = D0\n",
    "    C_smp = C0\n",
    "    error_vec = zeros(50)\n",
    "    grad_vec = zeros(50)\n",
    "    \n",
    "    for i in 1:50\n",
    "\n",
    "        error, grad = compute_error_and_error_gradient(Y, D, C_smp)\n",
    "        error_vec[i] = error\n",
    "        grad_vec[i] = grad\n",
    "   \n",
    "        C_smp = construct_C_smp(D, Y, s, C_smp)\n",
    "        D, C_smp = DU_KSVD(Y, D, C_smp)\n",
    "\n",
    "    end\n",
    "\n",
    "    return C_smp, D, error_vec, grad_vec\n",
    "end\n",
    "\n",
    "C , D, error_vec, grad_vec = K_SVD(Y, D0, C0)\n",
    "\n",
    "A.Q8_2_2_ans_C50 = C\n",
    "A.Q8_2_2_ans_D50 = D\n",
    "A.Q8_2_3_ans_f = error_vec\n",
    "A.Q8_2_3_ans_gradf = grad_vec"
   ]
  },
  {
   "cell_type": "markdown",
   "id": "a4ad055d",
   "metadata": {},
   "source": [
    "### 3"
   ]
  },
  {
   "cell_type": "code",
   "execution_count": null,
   "id": "866b6c72",
   "metadata": {},
   "outputs": [],
   "source": []
  }
 ],
 "metadata": {
  "kernelspec": {
   "display_name": "Julia 1.11.0",
   "language": "julia",
   "name": "julia-1.11"
  },
  "language_info": {
   "file_extension": ".jl",
   "mimetype": "application/julia",
   "name": "julia",
   "version": "1.11.0"
  }
 },
 "nbformat": 4,
 "nbformat_minor": 5
}
