{
 "cells": [
  {
   "cell_type": "markdown",
   "id": "5a6b0940",
   "metadata": {},
   "source": [
    "# Coursework 3\n",
    "\n",
    "### PLAGIARISM/COLLUSION DECLARATION\n",
    "\n",
    " \n",
    "\n",
    "Coursework submitted for assessment must be the original work of you and your group. Assignments are subjected to regular checks for plagiarism and/or collusion. Plagiarism is the presentation of another person’s thoughts or words (those outside your group) as if they were your own. Collusion involves obtaining help from someone outside your group to complete your work. In preparing your coursework, you should not seek help, or copy from any other person or source, including the\n",
    "\n",
    "Internet, without proper and explicit acknowledgement.\n",
    "\n",
    " \n",
    "\n",
    "There is a procedure in place for you to declare individual contributions within your group for courswork. You must declare the contributions fairly and accurately.\n",
    "\n",
    " \n",
    "\n",
    "You must not disclose your solutions or insights related to coursework with anyone else, including future students or the Internet.\n",
    "\n",
    " \n",
    "\n",
    "By acknowledging the the statements above, you are declaring that both this and all subsequent pieces of coursework are, and will remain, the original work of you and your group.\n",
    "\n",
    " \n",
    "\n",
    "* Submissions will not be accepted without the aforementioned declaration.\n",
    "\n",
    " \n",
    "\n",
    "* Members of a group are deemed to have collective responsibility for the integrity for work submitted and are liable for any penalty imposed, proportionate to their contributions."
   ]
  },
  {
   "cell_type": "code",
   "execution_count": 1,
   "id": "156ebb80",
   "metadata": {},
   "outputs": [],
   "source": [
    "using JLD2,FileIO"
   ]
  },
  {
   "cell_type": "code",
   "execution_count": 1,
   "id": "b570716e",
   "metadata": {},
   "outputs": [
    {
     "data": {
      "text/plain": [
       "CourseWork_2"
      ]
     },
     "execution_count": 1,
     "metadata": {},
     "output_type": "execute_result"
    }
   ],
   "source": [
    "Base.@kwdef mutable struct CourseWork_3\n",
    "    \n",
    "    CID::Int\n",
    "    Plagiarism_declare::Union{Missing,Bool}\n",
    "    \n",
    "    # 9.1 Proximal Operator\n",
    "    \n",
    "    Q9_1_a_data_A::Matrix\n",
    "    Q9_1_a_data_b::Vector\n",
    "    Q9_1_a_data_z::Vector\n",
    "    Q9_1_a_data_gamma::Float64\n",
    "    \n",
    "    Q9_1_a_ans_x::Union{Missing,Vector}\n",
    "    \n",
    "    Q9_1_b_data_z::Vector\n",
    "    Q9_1_b_data_a::Float64\n",
    "    Q9_1_b_data_b::Float64\n",
    "    Q9_1_b_data_gamma::Float64\n",
    "    \n",
    "    Q9_1_b_ans_x::Union{Missing,Vector}\n",
    "    \n",
    "    Q9_1_c_data_z::Vector\n",
    "    Q9_1_c_data_k::Int\n",
    "    Q9_1_c_data_gamma::Float64\n",
    "    \n",
    "    Q9_1_c_ans_x::Union{Missing,Vector}\n",
    "    \n",
    "    Q9_1_d_data_z::Vector\n",
    "    Q9_1_d_data_gamma::Float64\n",
    "    \n",
    "    Q9_1_d_ans_x::Union{Missing,Vector}\n",
    "    \n",
    "    Q9_1_e_data_Z::Matrix\n",
    "    Q9_1_e_data_r::Int\n",
    "    Q9_1_e_data_gamma::Float64\n",
    "    \n",
    "    Q9_1_e_ans_X::Union{Missing,Matrix}\n",
    "    \n",
    "    Q9_1_f_data_Z::Matrix\n",
    "    Q9_1_f_data_gamma::Float64\n",
    "    \n",
    "    Q9_1_f_ans_X::Union{Missing,Matrix}\n",
    "    \n",
    "    Q9_1_g_data_Z::Matrix\n",
    "    Q9_1_g_data_gamma::Float64\n",
    "    \n",
    "    Q9_1_g_ans_X::Union{Missing,Matrix}\n",
    "    \n",
    "    Q9_1_h_data_z::Vector\n",
    "    Q9_1_h_data_gamma::Float64\n",
    "    \n",
    "    Q9_1_h_ans_x::Union{Missing,Vector}\n",
    "    \n",
    "    Q9_1_i_data_z::Vector\n",
    "    Q9_1_i_data_gamma::Float64\n",
    "    \n",
    "    Q9_1_i_ans_x::Union{Missing,Vector}\n",
    "    \n",
    "    # 9.2 Proximal operators related to ℓ1-norm\n",
    "    \n",
    "    Q9_2_a_data_z::Vector\n",
    "    Q9_2_a_data_gamma::Float64\n",
    "    Q9_2_a_data_lambda::Float64\n",
    "    \n",
    "    Q9_2_a_ans_x::Union{Missing,Vector}\n",
    "    \n",
    "    Q9_2_b_data_z::Vector\n",
    "    Q9_2_b_data_a::Vector\n",
    "    Q9_2_b_data_gamma::Float64\n",
    "    Q9_2_b_data_lambda::Float64\n",
    "    \n",
    "    Q9_2_b_ans_x::Union{Missing,Vector}\n",
    "    \n",
    "    Q9_2_c_data_z::Vector\n",
    "    Q9_2_c_data_U::Matrix\n",
    "    Q9_2_c_data_gamma::Float64\n",
    "    Q9_2_c_data_lambda::Float64\n",
    "    \n",
    "    Q9_2_c_ans_x::Union{Missing,Vector}\n",
    "    \n",
    "    Q9_2_d_data_z::Vector\n",
    "    Q9_2_d_data_U::Matrix\n",
    "    Q9_2_d_data_gamma::Float64\n",
    "    Q9_2_d_data_lambda::Float64\n",
    "    \n",
    "    Q9_2_d_ans_x::Union{Missing,Vector}\n",
    "    \n",
    "    # 10.1 Sparsity under Wavelet Transform\n",
    "    \n",
    "    Q10_1_data_X0::Matrix\n",
    "    Q10_1_data_Omega::Matrix\n",
    "    Q10_1_data_y::Vector\n",
    "    Q10_1_data_lambda::Float64\n",
    "    \n",
    "    Q10_1_1_ans_gradient::Union{Missing,Matrix}\n",
    "    Q10_1_2_ans_L::Union{Missing,Float64}\n",
    "    Q10_1_3_ans_X1::Union{Missing,Matrix}\n",
    "    Q10_1_4_ans_g::Union{Missing,Vector}\n",
    "    Q10_1_5_ans_IMG::Union{Missing,Matrix}\n",
    "    \n",
    "    # 10.2. MRI CS Recovery: Wavelet and DCT\n",
    "    \n",
    "    Q10_2_data_Z10::Matrix\n",
    "    Q10_2_data_Z20::Matrix\n",
    "    Q10_2_data_Omega::Matrix\n",
    "    Q10_2_data_y::Vector\n",
    "    Q10_2_data_alpha::Float64\n",
    "    Q10_2_data_lambda::Float64\n",
    "    \n",
    "    Q10_2_1_ans_X1::Union{Missing,Matrix}\n",
    "    Q10_2_2_ans_Z1::Union{Missing,Matrix}\n",
    "    Q10_2_2_ans_Z2::Union{Missing,Matrix}\n",
    "    Q10_2_3_ans_g::Union{Missing,Vector}\n",
    "    Q10_2_4_ans_IMG::Union{Missing,Matrix}\n",
    "    \n",
    "    \n",
    "    \n",
    "    \n",
    "end"
   ]
  },
  {
   "cell_type": "code",
   "execution_count": null,
   "id": "30132ba3",
   "metadata": {},
   "outputs": [],
   "source": [
    "# Download and upload data from JLD file, refer to https://juliaio.github.io/JLD2.jl/dev/\n",
    "\n",
    " \n",
    "\n",
    "# Example\n",
    "\n",
    "# A = JLD2.load(\"xxx.jld2\");\n",
    "\n",
    "# A = A[ \"CourseWork_3\" ];\n",
    "\n",
    "\n",
    " \n",
    "\n",
    "# jldopen(\"xxx.jld3\", \"w\") do file\n",
    "\n",
    "#    write(file, \"CourseWork_3\", A)\n",
    "\n",
    "# end"
   ]
  },
  {
   "cell_type": "markdown",
   "id": "760d5b8a",
   "metadata": {},
   "source": [
    "# 9.1 Proximal Operators"
   ]
  },
  {
   "cell_type": "code",
   "execution_count": null,
   "id": "f84136a6",
   "metadata": {},
   "outputs": [],
   "source": []
  },
  {
   "cell_type": "markdown",
   "id": "11728099",
   "metadata": {},
   "source": [
    "# 9.2 Proximal Operators Related to ℓ1-norm"
   ]
  },
  {
   "cell_type": "code",
   "execution_count": null,
   "id": "26e694f3",
   "metadata": {},
   "outputs": [],
   "source": []
  },
  {
   "cell_type": "markdown",
   "id": "8b86d98e",
   "metadata": {},
   "source": [
    "# 10.1 Sparsity under Wavelet Transform"
   ]
  },
  {
   "cell_type": "code",
   "execution_count": null,
   "id": "0fbf8315",
   "metadata": {},
   "outputs": [],
   "source": []
  },
  {
   "cell_type": "markdown",
   "id": "0eede7e8",
   "metadata": {},
   "source": [
    "# 10.2 MRI CS Recovery: Wavelet and DCT"
   ]
  },
  {
   "cell_type": "code",
   "execution_count": null,
   "id": "dc79bfaf",
   "metadata": {},
   "outputs": [],
   "source": []
  }
 ],
 "metadata": {
  "kernelspec": {
   "display_name": "Julia 1.6.7",
   "language": "julia",
   "name": "julia-1.6"
  },
  "language_info": {
   "file_extension": ".jl",
   "mimetype": "application/julia",
   "name": "julia",
   "version": "1.6.7"
  }
 },
 "nbformat": 4,
 "nbformat_minor": 5
}
