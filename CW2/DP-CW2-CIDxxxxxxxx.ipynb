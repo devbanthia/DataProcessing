{
 "cells": [
  {
   "cell_type": "markdown",
   "id": "5a6b0940",
   "metadata": {},
   "source": [
    "# Coursework 2\n",
    "\n",
    "### PLAGIARISM/COLLUSION DECLARATION\n",
    "\n",
    " \n",
    "\n",
    "Coursework submitted for assessment must be the original work of you and your group. Assignments are subjected to regular checks for plagiarism and/or collusion. Plagiarism is the presentation of another person’s thoughts or words (those outside your group) as if they were your own. Collusion involves obtaining help from someone outside your group to complete your work. In preparing your coursework, you should not seek help, or copy from any other person or source, including the\n",
    "\n",
    "Internet, without proper and explicit acknowledgement.\n",
    "\n",
    " \n",
    "\n",
    "There is a procedure in place for you to declare individual contributions within your group for courswork. You must declare the contributions fairly and accurately.\n",
    "\n",
    " \n",
    "\n",
    "You must not disclose your solutions or insights related to coursework with anyone else, including future students or the Internet.\n",
    "\n",
    " \n",
    "\n",
    "By acknowledging the the statements above, you are declaring that both this and all subsequent pieces of coursework are, and will remain, the original work of you and your group.\n",
    "\n",
    " \n",
    "\n",
    "* Submissions will not be accepted without the aforementioned declaration.\n",
    "\n",
    " \n",
    "\n",
    "* Members of a group are deemed to have collective responsibility for the integrity for work submitted and are liable for any penalty imposed, proportionate to their contributions."
   ]
  },
  {
   "cell_type": "code",
   "execution_count": 1,
   "id": "156ebb80",
   "metadata": {},
   "outputs": [],
   "source": [
    "using JLD2,FileIO"
   ]
  },
  {
   "cell_type": "code",
   "execution_count": 2,
   "id": "b570716e",
   "metadata": {},
   "outputs": [
    {
     "data": {
      "text/plain": [
       "CourseWork_2"
      ]
     },
     "metadata": {},
     "output_type": "display_data"
    }
   ],
   "source": [
    "Base.@kwdef mutable struct CourseWork_2\n",
    "    CID::Int\n",
    "    Plagiarism_declare::Union{Missing,Bool}\n",
    "    \n",
    "    # 7.1 Estimation Accuracy\n",
    "    \n",
    "    Q7_1_data_A::Matrix{Float64}\n",
    "    \n",
    "    Q7_1_a_ans_w::Union{Missing,Vector}\n",
    "    Q7_1_a_ans_err::Union{Missing,Float64}\n",
    "    Q7_1_b_ans_w::Union{Missing,Vector}\n",
    "    Q7_1_b_ans_err::Union{Missing,Float64}\n",
    "    Q7_1_c_ans_err::Union{Missing,Float64}\n",
    "    \n",
    "     # 7.2 Greedy Algorithms\n",
    "    \n",
    "    Q7_2_1_data_y::Vector\n",
    "    Q7_2_1_data_A::Matrix\n",
    "    Q7_2_1_data_S::Int\n",
    "    \n",
    "    Q7_2_1_ans_x::Union{Missing,Vector}\n",
    "    \n",
    "    Q7_2_2_data_y::Vector\n",
    "    Q7_2_2_data_A::Matrix\n",
    "    Q7_2_2_data_S::Int\n",
    "    \n",
    "    Q7_2_2_ans_x::Union{Missing,Vector}\n",
    "    \n",
    "    Q7_2_3_data_y::Vector\n",
    "    Q7_2_3_data_A::Matrix\n",
    "    Q7_2_3_data_S::Int\n",
    "    \n",
    "    Q7_2_3_ans_x::Union{Missing,Vector}\n",
    "    \n",
    "    # 8.1 The MOD Method\n",
    "    \n",
    "    Q8_1_data_Y::Matrix\n",
    "    Q8_1_data_D0::Matrix\n",
    "    Q8_1_data_C0::Matrix\n",
    "    Q8_1_data_s::Int\n",
    "    \n",
    "    Q8_1_1_ans_Comp::Union{Missing,Matrix}\n",
    "    Q8_1_2_ans_Csp::Union{Missing,Matrix}\n",
    "    Q8_1_3_ans_Dmod::Union{Missing,Matrix}\n",
    "    Q8_1_4_ans_C50::Union{Missing,Matrix}\n",
    "    Q8_1_4_ans_D50::Union{Missing,Matrix}\n",
    "    Q8_1_5_ans_f::Union{Missing,Vector}\n",
    "    Q8_1_5_ans_gradf::Union{Missing,Vector}\n",
    "    \n",
    "    # 8.2 The K-SVD Method\n",
    "    \n",
    "    Q8_2_data_Y::Matrix\n",
    "    Q8_2_data_D0::Matrix\n",
    "    Q8_2_data_C0::Matrix\n",
    "    Q8_2_data_s::Int\n",
    "    \n",
    "    Q8_2_1_ans_Ckscd::Union{Missing,Matrix}\n",
    "    Q8_2_1_ans_Dkscd::Union{Missing,Matrix}\n",
    "    Q8_2_2_ans_C50::Union{Missing,Matrix}\n",
    "    Q8_2_2_ans_D50::Union{Missing,Matrix}\n",
    "    Q8_2_3_ans_f::Union{Missing,Vector}\n",
    "    Q8_2_3_ans_gradf::Union{Missing,Vector}\n",
    "    \n",
    "    \n",
    "end"
   ]
  },
  {
   "cell_type": "code",
   "execution_count": 3,
   "id": "30132ba3",
   "metadata": {},
   "outputs": [
    {
     "data": {
      "text/plain": [
       "CourseWork_2(1943834, missing, [4.2139137101022985 3.587852118477784 … 3.144509047464645 3.784994172304772; 3.587852118477784 7.163636332100328 … 5.113022329729536 6.344465937225596; … ; 3.144509047464645 5.113022329729536 … 5.683010637763987 5.222604582405985; 3.784994172304772 6.344465937225596 … 5.222604582405985 6.756776585140605], missing, missing, missing, missing, missing, [0.2832818459371857, 0.14252805069498312, -0.5078137248277569, -0.04309048824627739, -0.8470982690553306, -0.1197558443049093, -0.0111059514717404, 0.6522917421360365, 0.3879652120489858, 0.21397925379596952  …  -0.36363029668323554, -0.9304188076436458, -0.03767912300966174, -0.014742857359932679, -0.12280842325563851, -0.6146126458066495, -0.3205057664892471, -0.5434728332603277, -0.03161896114753292, 0.5748632405988965], [0.030008364877164385 -0.3102381714775882 … 0.2801497617094742 -0.014371445785814953; 0.10715370373678043 -0.16758692836078676 … -0.13205740184011666 0.001319465404622215; … ; -0.05197571321608418 -0.17717127213325887 … -0.10384323828203325 0.15025346984804472; 0.2215278514189259 0.11415916554089364 … -0.0009029548872672163 0.11502705331360753], 5, missing, [0.15413389619506326, -0.1720405416593867, -0.4620480437236777, 0.26008915060662513, -0.45202458890958247, 0.09727030592302337, -0.3862509461470564, 0.5314241360240471, -0.1605730442952186, -0.10973234806150758  …  0.10099180813793009, 0.27731705798587947, 0.29167464715262176, -0.5114837884066397, -0.1076112433758259, 0.4267042555003801, -0.5273682172398535, 0.049607231595891095, -0.2144749800360269, -0.5637698252217151], [-0.2567097686391758 -0.014208101521830217 … -0.08579909546632296 0.06759328144404946; 0.02837068177331844 0.08900184843995848 … 0.11666282993801032 0.17740197679978048; … ; -0.1219918031729123 -0.14470787444755226 … -0.1282629609426438 -0.09081469072655518; -0.04613662004366004 0.19524549269088942 … 0.2527658857385398 0.08235283845207161], 5, missing, [0.21632750918702606, -0.02793089073926256, -0.4523135869944694, 0.8622546427000078, -0.4849335577100037, 0.5212131401407862, -0.3048734463738934, -0.2989555831465371, -0.534947199187895, -0.09870058330851657  …  0.7059100850505987, -0.6429496143519668, -0.4111574595923015, -0.16819122991209834, 0.28173397267085737, -0.5720793298855615, 0.006461727987607132, -0.835326892638825, 0.6050434249778778, -0.37209704554825135], [-0.20232447941297196 0.18502543905854144 … -0.3107451917280678 0.1024934142370706; 0.03923757942774301 0.28847329884838707 … -0.20603696054782844 -0.29802054515651505; … ; 0.09616688697335783 -0.0728862161993231 … 0.30250488071566184 -0.03733237682136132; -0.06317715863157035 -0.0441877629959378 … 0.04420606235767631 -0.13546678028150716], 5, missing, [-0.8320121229433609 0.3859035763726149 … 0.4788682415391676 0.18097541433510042; -0.10334195514588576 -0.4299930872579881 … -0.5731117947916827 0.14610178055157114; … ; 0.053372035116165374 0.27846641231152286 … -0.6607852602798572 0.2955152844130168; 1.1638314711092934 0.4300329686610533 … -0.21180859891918008 -0.38111758818213815], [0.4985526279434761 0.36196282069994673 … -1.1996830213942775 -0.11679289495342218; -0.30784296331312094 -0.20630315781107347 … 0.055390887190789426 -0.1277419119343814; … ; 1.1461759240676745 -0.027284077877208372 … -1.149240014190282 -0.6123516780279347; 1.7815049213213325 -0.3460180830322184 … 0.36821016161662584 -0.3985753890369465], [0.0 0.0 … 0.0 0.0; 1.723522514817544 0.0 … 0.0 0.0; … ; 0.0 0.0 … 0.0 0.0; 0.0 0.0 … 0.0 0.0], 5, missing, missing, missing, missing, missing, missing, missing, [-0.7282869699584986 0.7262284740459078 … 1.273887396918797 0.8128409509621033; 0.045791780047971534 2.436392059862545 … 0.4782042767654155 0.6761470823942023; … ; 0.01972843344477786 0.2640481823089424 … 2.0018354785333297 0.8027372220980763; -0.05205506480562814 0.7685524536190542 … 0.8467167066194282 -1.2609704324996978], [0.015110018784986308 0.012058450205966811 … -0.09089069228776625 -0.08095049475077576; 0.13700271653990395 -0.16010220308763906 … 0.31131395439452036 -0.061716086173629725; … ; 0.09733421845901748 0.02064431808395237 … 0.16528621750016018 0.12632318794513753; 0.01397756634637485 -0.050464177819373915 … 0.27141814012581994 -0.055196628360893486], [0.0 3.3234336758915686 … 0.0 0.0; 0.0 0.0 … 0.0 0.0; … ; 0.0 3.597650213728479 … 0.0 0.0; 0.0 0.0 … 0.0 0.0], 5, missing, missing, missing, missing, missing, missing)"
      ]
     },
     "metadata": {},
     "output_type": "display_data"
    }
   ],
   "source": [
    "# Download and upload data from JLD file, refer to https://juliaio.github.io/JLD2.jl/dev/\n",
    "\n",
    " \n",
    "\n",
    "# Example\n",
    "\n",
    "data = JLD2.load(\"Browne Liam1943834StudentFile.jld2\");\n",
    "\n",
    "data = data[ \"CourseWork_2\" ];\n",
    "\n",
    "\n",
    " \n",
    "\n",
    "# jldopen(\"xxx.jld2\", \"w\") do file\n",
    "\n",
    "#    write(file, \"CourseWork_2\", A)\n",
    "\n",
    "# end"
   ]
  },
  {
   "cell_type": "markdown",
   "id": "6861a416",
   "metadata": {},
   "source": [
    "## 7.1. Estimation Accuracy\n"
   ]
  },
  {
   "cell_type": "markdown",
   "id": "90b22aba",
   "metadata": {},
   "source": [
    "### 1. (a)"
   ]
  },
  {
   "cell_type": "code",
   "execution_count": 4,
   "id": "ee609657",
   "metadata": {},
   "outputs": [
    {
     "name": "stdout",
     "output_type": "stream",
     "text": [
      "1.0\n",
      "[-0.22358732935485137, -0.34758370129967936, -0.30117137298843794, -0.24928900741392682, -0.22451467440516168, -0.25234222520905747, -0.2628887107176502, -0.27050935138069576, -0.23075989861576957, -0.2810051684020147, -0.2109952531370861, -0.2335664558916708, -0.2795307902445785, -0.33249370855246135]\n",
      "0.0003564207643761831\n",
      "0.0003564207643760726\n"
     ]
    }
   ],
   "source": [
    "# save your answers in Q7_1_a_ans_w and Q7_1_a_ans_err\n",
    "using LinearAlgebra\n",
    "\n",
    "A = data.Q7_1_data_A\n",
    "A_hat = inv(adjoint(A) * A) * adjoint(A)\n",
    "A_hat_SVD = svd(A_hat)\n",
    "\n",
    "S = A_hat_SVD.S\n",
    "V = A_hat_SVD.V\n",
    "\n",
    "w_min = V[:, end]\n",
    "println(norm(w_min))\n",
    "println(w_min)\n",
    "\n",
    "sol = adjoint(A_hat * w_min) * (A_hat * w_min)\n",
    "# Test solution\n",
    "# println(sol)\n",
    "# println(S[end]*S[end])\n"
   ]
  },
  {
   "cell_type": "markdown",
   "id": "d2cfd18e",
   "metadata": {},
   "source": [
    "### 1. (b)"
   ]
  },
  {
   "cell_type": "code",
   "execution_count": 31,
   "id": "fa8a298f",
   "metadata": {},
   "outputs": [
    {
     "name": "stdout",
     "output_type": "stream",
     "text": [
      "0.9999999999999998\n",
      "[-0.0320466983291685, 0.037842986098476895, 0.02970274462016937, -0.2604433836321299, 0.45951640780659525, 0.10494135589302148, -0.2209146167363501, -0.12819899890848124, 0.07916874300703276, 0.5627950731056846, -0.04214372955892949, -0.44154235329594393, -0.32723291168213886, 0.1208243916599795]\n",
      "79157.61419919424\n",
      "79157.61419919421\n"
     ]
    }
   ],
   "source": [
    "# save your answers in Q7_1_b_ans_w and Q7_1_b_ans_err\n",
    "A = data.Q7_1_data_A\n",
    "A_hat = inv(adjoint(A) * A) * adjoint(A)\n",
    "A_hat_SVD = svd(A_hat)\n",
    "\n",
    "S = A_hat_SVD.S\n",
    "V = A_hat_SVD.V\n",
    "\n",
    "w_max = V[:, 1]\n",
    "println(norm(w_max))\n",
    "println(w_max)\n",
    "\n",
    "sol = adjoint(A_hat * w_max) * (A_hat * w_max)\n",
    "\n",
    "# Test solution\n",
    "# println(sol)\n",
    "# println(S[1]*S[1])"
   ]
  },
  {
   "cell_type": "markdown",
   "id": "f2c0b5e8",
   "metadata": {},
   "source": [
    "### 1. (c)"
   ]
  },
  {
   "cell_type": "code",
   "execution_count": 33,
   "id": "9674d13e",
   "metadata": {},
   "outputs": [
    {
     "data": {
      "text/plain": [
       "5788.248295044012"
      ]
     },
     "metadata": {},
     "output_type": "display_data"
    }
   ],
   "source": [
    "A_hat = inv(adjoint(A) * A) * adjoint(A)\n",
    "# Using expectation of quadratic form\n",
    "Exp = tr(adjoint(A_hat) * A_hat) / size(A_hat, 1)"
   ]
  },
  {
   "cell_type": "markdown",
   "id": "678c1375",
   "metadata": {},
   "source": [
    "## 7.2. Greedy Algorithms"
   ]
  },
  {
   "cell_type": "markdown",
   "id": "c624748e",
   "metadata": {},
   "source": [
    "### 1"
   ]
  },
  {
   "cell_type": "code",
   "execution_count": 7,
   "id": "a33173ff",
   "metadata": {},
   "outputs": [
    {
     "data": {
      "text/plain": [
       "100-element Vector{Float64}:\n",
       " 1.9121021675178456\n",
       " 0.0\n",
       " 0.0\n",
       " 0.0\n",
       " 0.0\n",
       " 1.5702793501276053\n",
       " 0.0\n",
       " 0.0\n",
       " 0.0\n",
       " 0.0\n",
       " ⋮\n",
       " 0.0\n",
       " 0.0\n",
       " 0.0\n",
       " 0.0\n",
       " 0.0\n",
       " 0.0\n",
       " 0.0\n",
       " 0.0\n",
       " 0.0"
      ]
     },
     "metadata": {},
     "output_type": "display_data"
    }
   ],
   "source": [
    "y = data.Q7_2_1_data_y\n",
    "A = data.Q7_2_1_data_A\n",
    "S = data.Q7_2_1_data_S\n",
    "\n",
    "# println(size(y))\n",
    "# println(size(A))\n",
    "# println(S)\n",
    "\n",
    "function greedy_OMP(y, A, S)\n",
    "    l = 1\n",
    "    x_hat = zeros(size(A)[2])\n",
    "    \n",
    "    y_r = y\n",
    "    T_l = []\n",
    "\n",
    "    while(l <= S)\n",
    "        i_l = argmax(abs.(adjoint(A) * y_r))\n",
    "        push!(T_l, i_l)\n",
    "        \n",
    "        A_l = zeros(size(A)[1], length(T_l))\n",
    "        \n",
    "\n",
    "        for i in 1:length(T_l)\n",
    "            A_l[:, i] = A[:, T_l[i]]\n",
    "        end\n",
    "       \n",
    "        x_hat_T_l = pinv(A_l) * y\n",
    "\n",
    "        for i in 1:length(T_l)\n",
    "            x_hat[T_l[i]] = x_hat_T_l[i]\n",
    "        end\n",
    "\n",
    "        y_r = y - (A * x_hat)\n",
    "\n",
    "        # mse = norm(y_r)^2 / length(y)\n",
    "\n",
    "        # println(\"MSE $l: $mse \")\n",
    "\n",
    "        l = l + 1\n",
    "    end\n",
    "    \n",
    "    return x_hat\n",
    "end\n",
    "\n",
    "greedy_OMP(y, A, S)\n"
   ]
  },
  {
   "cell_type": "markdown",
   "id": "adf33d97",
   "metadata": {},
   "source": [
    "### 2"
   ]
  },
  {
   "cell_type": "code",
   "execution_count": 8,
   "id": "d63e9a83",
   "metadata": {},
   "outputs": [
    {
     "data": {
      "text/plain": [
       "98-element Vector{Float64}:\n",
       " 0.0\n",
       " 0.0\n",
       " 0.0\n",
       " 0.0\n",
       " 0.0\n",
       " 0.0\n",
       " 0.0\n",
       " 0.0\n",
       " 1.723647645324772\n",
       " 1.165916081091429\n",
       " ⋮\n",
       " 0.0\n",
       " 0.0\n",
       " 0.0\n",
       " 0.0\n",
       " 0.6024695392678504\n",
       " 0.0\n",
       " 0.0\n",
       " 0.0\n",
       " 0.0"
      ]
     },
     "metadata": {},
     "output_type": "display_data"
    }
   ],
   "source": [
    "y = data.Q7_2_2_data_y\n",
    "A = data.Q7_2_2_data_A\n",
    "S = data.Q7_2_2_data_S\n",
    "\n",
    "# println(size(y))\n",
    "# println(size(A))\n",
    "# println(S)\n",
    "\n",
    "function greedy_SP(y, A, S, c0=nothing)\n",
    "    # Initialisation:\n",
    "    if (c0 === nothing)\n",
    "        T0 = sortperm(abs.(adjoint(A) * y), rev=true)[1:S]\n",
    "    else\n",
    "        T0 = sortperm(abs.(c0), rev=true)[1:S]\n",
    "    end\n",
    "    filter!(p -> p != 0, T0)\n",
    "    A_T0 = zeros(size(A)[1], length(T0))\n",
    "    for i in 1:length(T0)\n",
    "        A_T0[:, i] = A[:, T0[i]]\n",
    "    end\n",
    "\n",
    "    x_hat_T0 = pinv(A_T0) * y\n",
    "\n",
    "    y_r = y - (A_T0 * x_hat_T0)\n",
    "    Tl = T0\n",
    "    xl = zeros(size(A)[2])\n",
    "    \n",
    "    # Iterate until convergence\n",
    "    for l in 1:4\n",
    "        # mse = norm(y_r)^2 / length(y)\n",
    "        # println(\"MSE $l: $mse \")\n",
    "\n",
    "        # Step 3\n",
    "        # Union of T_l-1 and highest-correlated columns of A with (y) residue\n",
    "        Ttildal = append!(Tl, sortperm(abs.(adjoint(A) * y_r), rev=true)[1:S])\n",
    "        filter!(p -> p != 0, T0)\n",
    "        # Step 4\n",
    "        # Constructing b\n",
    "        A_Ttildal = zeros(size(A)[1], length(Ttildal))\n",
    "\n",
    "        for i in 1:length(Ttildal)\n",
    "            A_Ttildal[:, i] = A[:, Ttildal[i]]\n",
    "        end\n",
    "\n",
    "        b_Ttildal = pinv(A_Ttildal) * y\n",
    "\n",
    "        b = zeros(size(A)[2])\n",
    "\n",
    "        for i in 1:length(Ttildal)\n",
    "            b[Ttildal[i]] = b_Ttildal[i]\n",
    "        end\n",
    "\n",
    "        # Step 5\n",
    "        # Update Tl\n",
    "        Tl = sortperm(abs.(b), rev=true)[1:S]\n",
    "        filter!(p -> p != 0, Tl)\n",
    "        # Step 6\n",
    "        # Update xl\n",
    "        A_Tl = zeros(size(A)[1], length(Tl))\n",
    "        for i in 1:length(Tl)\n",
    "            A_Tl[:, i] = A[:, Tl[i]]\n",
    "        end\n",
    "\n",
    "        xl_Tl = pinv(A_Tl) * y\n",
    "\n",
    "        xl = zeros(size(A)[2])\n",
    "\n",
    "        for i in 1:length(Tl)\n",
    "            xl[Tl[i]] = xl_Tl[i]\n",
    "        end\n",
    "\n",
    "        y_r = y - (A * xl)\n",
    "    end\n",
    "\n",
    " \n",
    "    return xl\n",
    "\n",
    "end\n",
    "\n",
    "greedy_SP(y, A, S)\n"
   ]
  },
  {
   "cell_type": "markdown",
   "id": "4fb3e9b3",
   "metadata": {},
   "source": [
    "### 3"
   ]
  },
  {
   "cell_type": "code",
   "execution_count": 22,
   "id": "7e707d5d",
   "metadata": {},
   "outputs": [
    {
     "name": "stdout",
     "output_type": "stream",
     "text": [
      "MSE 0: 0.20284477913101934 \n",
      "MSE 1: 0.1043997898997661 \n"
     ]
    },
    {
     "data": {
      "text/plain": [
       "72-element Vector{Float64}:\n",
       " 0.0\n",
       " 0.0\n",
       " 0.0\n",
       " 0.0\n",
       " 0.0\n",
       " 0.0\n",
       " 0.0\n",
       " 0.0\n",
       " 0.0\n",
       " 0.0\n",
       " ⋮\n",
       " 0.0\n",
       " 0.0\n",
       " 0.0\n",
       " 0.0\n",
       " 0.0\n",
       " 0.0\n",
       " 0.0\n",
       " 0.0\n",
       " 0.0"
      ]
     },
     "metadata": {},
     "output_type": "display_data"
    }
   ],
   "source": [
    "y = data.Q7_2_3_data_y\n",
    "A = data.Q7_2_3_data_A\n",
    "S = data.Q7_2_3_data_S\n",
    "\n",
    "function greedy_HIT(y, A, S)\n",
    "\n",
    "    # Initialisation\n",
    "    x0 = zeros(size(A)[2])\n",
    "    xl = x0\n",
    "\n",
    "    mse = norm(y - (A * xl))^2 / length(y)\n",
    "    println(\"MSE 0: $mse \")\n",
    "    # For Loop\n",
    "    for l in 1:1\n",
    "        xl = (xl + (adjoint(A) * (y - (A * xl))))\n",
    "        x_ind = sortperm(abs.(xl), rev=true)[1:S]\n",
    "\n",
    "        xl_sp = zeros(length(xl))\n",
    "        for i in 1:length(x_ind)\n",
    "            xl_sp[x_ind[i]] = xl[x_ind[i]]\n",
    "        end\n",
    "\n",
    "        xl = xl_sp\n",
    "\n",
    "        mse = norm(y - (A * xl))^2 / length(y)\n",
    "        println(\"MSE $l: $mse \")\n",
    "    end\n",
    "\n",
    "    return xl\n",
    "end\n",
    "\n",
    "greedy_HIT(y, A, S)"
   ]
  },
  {
   "cell_type": "markdown",
   "id": "c3c69679",
   "metadata": {},
   "source": [
    "## 8.1. The MOD Method"
   ]
  },
  {
   "cell_type": "markdown",
   "id": "033f3913",
   "metadata": {},
   "source": [
    "### 1"
   ]
  },
  {
   "cell_type": "code",
   "execution_count": 10,
   "id": "03d8e937",
   "metadata": {},
   "outputs": [
    {
     "data": {
      "text/plain": [
       "64×128 Matrix{Float64}:\n",
       " 0.0       0.0   0.0      0.0       …   0.0        0.0        0.0\n",
       " 0.0       0.0   0.0      0.0           0.0        0.0        0.0\n",
       " 0.0       0.0   0.0      0.0           0.0        0.0       -0.259481\n",
       " 0.0       0.0   0.0      0.0           0.0        0.0        0.0\n",
       " 0.0       0.0   0.0      0.196751      0.0        0.0        0.274295\n",
       " 0.0       0.0   0.0      0.0       …   0.0        0.0        0.0\n",
       " 0.0       0.0   0.0      0.0           0.0        0.0        0.0\n",
       " 0.0       0.0   0.0      0.0           0.0        0.0        0.0\n",
       " 0.0       0.0   0.0      0.0           0.0        0.0        0.0\n",
       " 0.0       0.0   0.0      0.0           0.0        0.0        0.0\n",
       " ⋮                                  ⋱   ⋮                    \n",
       " 0.0       0.0   0.0      0.0       …   0.0        0.0        0.0\n",
       " 0.0       0.0   0.0      0.0           0.0        0.0        0.0\n",
       " 0.0       0.0   0.0     -0.267059      0.0       -0.344977   0.0\n",
       " 0.0       0.0   0.0      0.0          -0.280412   0.0        0.0\n",
       " 0.0       0.0   0.0      0.0           0.0        0.0        0.0\n",
       " 0.0       0.0  -0.4552   0.0       …   0.0       -0.269247   0.0\n",
       " 0.0       0.0   0.0      0.0           0.0        0.0        0.0\n",
       " 0.275126  0.0   0.0      0.0           0.0        0.0        0.0\n",
       " 0.0       0.0   0.0      0.0           0.0        0.0        0.0"
      ]
     },
     "metadata": {},
     "output_type": "display_data"
    }
   ],
   "source": [
    "Y = data.Q8_1_data_Y\n",
    "D0 = data.Q8_1_data_D0\n",
    "C0 = data.Q8_1_data_C0\n",
    "s = data.Q8_1_data_s\n",
    "\n",
    "# println(size(Y))\n",
    "# println(size(D0))\n",
    "# println(size(C0))\n",
    "# println(s)\n",
    "\n",
    "# println(C0)\n",
    "\n",
    "\n",
    "\n",
    "\n",
    "function SC_OMP(Y, D0, s)\n",
    "    Comp = zeros(size(D0)[2], size(Y)[2])\n",
    "    \n",
    "    for i in 1:size(Comp)[2]\n",
    "        y = Y[:, i]\n",
    "        Cn = greedy_OMP(y, D0, s)\n",
    "        Comp[:, i] = Cn\n",
    "    end\n",
    "\n",
    "    return Comp\n",
    "end\n",
    "\n",
    "SC_OMP(Y, D0, s)"
   ]
  },
  {
   "cell_type": "markdown",
   "id": "3cc82ff1",
   "metadata": {},
   "source": [
    "### 2"
   ]
  },
  {
   "cell_type": "code",
   "execution_count": 11,
   "id": "cf1f7c65",
   "metadata": {},
   "outputs": [
    {
     "data": {
      "text/plain": [
       "64×128 Matrix{Float64}:\n",
       " 0.0       0.0  0.832398   0.0       …   0.0       0.0        0.0\n",
       " 0.0       0.0  0.0        0.0           0.0       0.0        0.0\n",
       " 0.0       0.0  0.0        0.0           0.0       0.0       -0.283698\n",
       " 0.0       0.0  0.0        0.0           0.0       0.0        0.0\n",
       " 0.0       0.0  0.0        0.0           0.0       0.0        0.28643\n",
       " 0.0       0.0  0.0        0.272794  …   0.0       0.0        0.0\n",
       " 0.0       0.0  0.0        0.0           0.0       0.0        0.0\n",
       " 0.0       0.0  0.0        0.0           0.0       0.0        0.0\n",
       " 0.0       0.0  0.0        0.0           0.0       0.0        0.0\n",
       " 0.0       0.0  0.0        0.0           0.0       0.0        0.0\n",
       " ⋮                                   ⋱   ⋮                   \n",
       " 0.0       0.0  0.0        0.0       …   0.0       0.0        0.0\n",
       " 0.0       0.0  0.0        0.0           0.0       0.0        0.0\n",
       " 0.262642  0.0  0.0       -0.246193     -0.283137  0.0        0.0\n",
       " 0.0       0.0  0.0        0.0          -0.384959  0.0        0.0\n",
       " 0.0       0.0  0.0        0.0           0.0       0.0        0.0\n",
       " 0.0       0.0  0.0        0.0       …   0.0       0.0        0.0\n",
       " 0.0       0.0  0.0        0.0           0.0       0.0        0.0\n",
       " 0.283296  0.0  0.0        0.0           0.0       0.325968   0.0\n",
       " 0.0       0.0  0.0        0.0           0.0       0.0        0.0"
      ]
     },
     "metadata": {},
     "output_type": "display_data"
    }
   ],
   "source": [
    "function SC_SP(Y, D0, C0, s)\n",
    "    Csp = zeros(size(D0)[2], size(Y)[2])\n",
    "    \n",
    "    for i in 1:size(Csp)[2]\n",
    "        y = Y[:, i]\n",
    "        c0 = C0[:, i]\n",
    "        Cn = greedy_SP(y, D0, s, c0)\n",
    "        Csp[:, i] = Cn\n",
    "    end\n",
    "\n",
    "    return Csp\n",
    "end\n",
    "\n",
    "SC_SP(Y, D0, C0, s)"
   ]
  },
  {
   "cell_type": "markdown",
   "id": "4be697fe",
   "metadata": {},
   "source": [
    "### 3"
   ]
  },
  {
   "cell_type": "code",
   "execution_count": 12,
   "id": "7b3143e5",
   "metadata": {},
   "outputs": [
    {
     "data": {
      "text/plain": [
       "32×64 Matrix{Float64}:\n",
       "  0.0361446  -0.0273042   -0.153877   …  -0.30371      0.041344\n",
       " -0.0867692   0.143373     0.046204      -0.132403    -0.0826498\n",
       " -0.0431085  -0.334189    -0.0819584      0.0546316   -0.193791\n",
       "  0.0173427   0.12157     -0.112688      -0.257564    -0.000453293\n",
       " -0.178962   -0.00713662  -0.0107781      0.107444    -0.0546023\n",
       " -0.0892475  -0.228888    -0.0715238  …  -0.020939    -0.233215\n",
       "  0.168909    0.342775     0.194087      -0.178278     0.0398617\n",
       "  0.347153   -0.120417    -0.175526      -0.139337    -0.078367\n",
       " -0.0751593  -0.038332    -0.0965354      0.349831     0.140895\n",
       " -0.153309    0.113698     0.0437212      0.203842     0.00769751\n",
       "  ⋮                                   ⋱               \n",
       " -0.205823    0.012513     0.0530759      0.214387     0.0797941\n",
       " -0.0156221   0.146611    -0.379342      -0.124546     0.264049\n",
       "  0.501375    0.00754822   0.233174   …  -0.0827245    0.00109206\n",
       "  0.0816713  -0.238426     0.0773764      0.014662     0.198374\n",
       "  0.0851532  -0.0358091   -0.0728784      0.204394     0.166062\n",
       " -0.3188     -0.0210345    0.143849      -0.00763659   0.30775\n",
       "  0.153567   -0.138594    -0.365804      -0.185355     0.12668\n",
       "  0.008003    0.157776    -0.0521498  …  -0.0945156   -0.00269172\n",
       "  0.154355   -0.20305      0.255203       0.0879807    0.0429267"
      ]
     },
     "metadata": {},
     "output_type": "display_data"
    }
   ],
   "source": [
    "function DU_MOD(Y, Dcurr, Ccurr, s)\n",
    "    Cnext = SC_SP(Y, Dcurr, Ccurr, s)\n",
    "\n",
    "    # Solving least squares\n",
    "    Dmod = Y * adjoint(Cnext) * inv((Cnext * adjoint(Cnext)))\n",
    "\n",
    "    # Normalise D\n",
    "    for i in 1:size(Dmod)[2]\n",
    "        Dmod[:, i] /= norm(Dmod[:, i], 2)\n",
    "    end\n",
    "\n",
    "    return Dmod\n",
    "end\n",
    "\n",
    "DU_MOD(Y, D0, C0, s)"
   ]
  },
  {
   "cell_type": "markdown",
   "id": "9e750483",
   "metadata": {},
   "source": [
    "### 4"
   ]
  },
  {
   "cell_type": "code",
   "execution_count": 13,
   "id": "c46a2416",
   "metadata": {},
   "outputs": [
    {
     "name": "stdout",
     "output_type": "stream",
     "text": [
      "Error 1: 0.7758770384615739\n",
      "Error 2: 0.15223580896394698\n",
      "Error 3: 0.13527370490566218\n",
      "Error 4: 0.1255356960505468\n",
      "Error 5: 0.11969352095912181\n",
      "Error 6: 0.11385004734618501\n",
      "Error 7: 0.10918205219905618\n",
      "Error 8: 0.10612933675727754\n",
      "Error 9: 0.10368415176718877\n",
      "Error 10: 0.10116035952518451\n",
      "Error 11: 0.09928599935718219\n",
      "Error 12: 0.09805034087725914\n",
      "Error 13: 0.09721526870391552\n",
      "Error 14: 0.09659612420821233\n",
      "Error 15: 0.09611329393477448\n",
      "Error 16: 0.09557402641186784\n",
      "Error 17: 0.09507110119810867\n",
      "Error 18: 0.0947056189085764\n",
      "Error 19: 0.09402189015781363\n",
      "Error 20: 0.09362192898504536\n",
      "Error 21: 0.09334726333758002\n",
      "Error 22: 0.09313385910950685\n",
      "Error 23: 0.092855941571146\n",
      "Error 24: 0.09263526308924064\n",
      "Error 25: 0.09176529346806948\n",
      "Error 26: 0.09116044568429829\n",
      "Error 27: 0.09059570094458058\n",
      "Error 28: 0.09001814047626679\n",
      "Error 29: 0.08940309963683085\n",
      "Error 30: 0.08899371817582978\n",
      "Error 31: 0.08858652291891078\n",
      "Error 32: 0.08814352391864005\n",
      "Error 33: 0.08768273046826043\n",
      "Error 34: 0.08681089855661371\n",
      "Error 35: 0.08635853116216008\n",
      "Error 36: 0.08606772900913504\n",
      "Error 37: 0.08584392690053608\n",
      "Error 38: 0.08566092036340456\n",
      "Error 39: 0.08539046483593547\n",
      "Error 40: 0.08517309367842485\n",
      "Error 41: 0.08505974673882905\n",
      "Error 42: 0.08489411461406046\n",
      "Error 43: 0.08444462198860263\n",
      "Error 44: 0.08416429727272685\n",
      "Error 45: 0.08378428245798833\n",
      "Error 46: 0.08354951034626504\n",
      "Error 47: 0.08338666319140894\n",
      "Error 48: 0.08317858208446273\n",
      "Error 49: 0.08299475380552943\n",
      "Error 50: 0.08286341225986861\n"
     ]
    }
   ],
   "source": [
    "using LinearAlgebra\n",
    "\n",
    "Y = data.Q8_1_data_Y\n",
    "D0 = data.Q8_1_data_D0\n",
    "C0 = data.Q8_1_data_C0\n",
    "s = data.Q8_1_data_s\n",
    "\n",
    "# Number of iterations\n",
    "iter = 50\n",
    "\n",
    "# Initialisation\n",
    "Ccur = C0\n",
    "Dcur = D0\n",
    "\n",
    "for i in 1:iter\n",
    "    Cnext = SC_SP(Y, Dcur, Ccur, s)\n",
    "    Dcur = DU_MOD(Y, Dcur, Ccur, s)\n",
    "    Ccur = Cnext\n",
    "\n",
    "    # Uncomment to print error\n",
    "    err = norm(Y - (Dcur * Ccur))^2 / length(Y)\n",
    "    println(\"Error $i: $err\")\n",
    "end\n",
    "\n"
   ]
  },
  {
   "cell_type": "markdown",
   "id": "558fe72c",
   "metadata": {},
   "source": [
    "### 5"
   ]
  },
  {
   "cell_type": "code",
   "execution_count": 14,
   "id": "7df53915",
   "metadata": {},
   "outputs": [],
   "source": [
    "using LinearAlgebra\n",
    "\n",
    "Y = data.Q8_1_data_Y\n",
    "D0 = data.Q8_1_data_D0\n",
    "C0 = data.Q8_1_data_C0\n",
    "s = data.Q8_1_data_s\n",
    "\n",
    "\n",
    "function f_and_gradf(Y, D, C)\n",
    "    f = (norm(Y - (D * C)))^2\n",
    "    grad = 2 * adjoint(D) * (Y - (D*C))\n",
    "    norm_grad = norm(grad)\n",
    "\n",
    "    # println(\"f: $f, normgrad: $norm_grad\")\n",
    "\n",
    "    return f, norm_grad\n",
    "end\n",
    "\n",
    "# Number of iterations\n",
    "iter = 50\n",
    "\n",
    "# Initialisation\n",
    "Ccur = C0\n",
    "Dcur = D0\n",
    "\n",
    "for i in 1:iter\n",
    "    f_and_gradf(Y, Dcur, Ccur)\n",
    "    Cnext = SC_SP(Y, Dcur, Ccur, s)\n",
    "    Dcur = DU_MOD(Y, Dcur, Ccur, s)\n",
    "    Ccur = Cnext\n",
    "\n",
    "    # Uncomment to print error\n",
    "    # err = norm(Y - (Dcur * Ccur))^2 / length(Y)\n",
    "    # println(\"Error $i: $err\")\n",
    "end"
   ]
  },
  {
   "cell_type": "markdown",
   "id": "3f6ba8e4",
   "metadata": {},
   "source": [
    "## 8.1. The K-SVD Method"
   ]
  },
  {
   "cell_type": "markdown",
   "id": "01791a06",
   "metadata": {},
   "source": [
    "### 1"
   ]
  },
  {
   "cell_type": "code",
   "execution_count": 20,
   "id": "aad83192",
   "metadata": {},
   "outputs": [
    {
     "name": "stdout",
     "output_type": "stream",
     "text": [
      "(32, 128)\n",
      "(32, 64)\n",
      "(64, 128)\n",
      "5\n"
     ]
    },
    {
     "data": {
      "text/plain": [
       "([-0.07143289475618317 0.048731106970497706 … -0.038861705695025756 -0.044155623760027574; 0.0011368173476388804 0.0868035641387671 … -0.0857518119824881 -0.09704802369889996; … ; -0.2431390072415944 0.3457128241158718 … -0.34156286845230316 -0.35026208778449347; -0.11623930793650553 -0.04402204295610815 … 0.04472051579547413 0.04731977626605716], [-6.663504160826699 6.310261049783611 … -2.4881039324820646 -2.6545135900648917; 1.6015689996219324 -0.12092004503969438 … 3.480508876218752 1.6881859535838712; … ; -1.7023419172866512 -0.20564604034361708 … -3.4036217159939857 -1.4642116183152714; -1.5690091987132608 0.041355819280295435 … -3.4345635301130395 -1.859468703551903])"
      ]
     },
     "metadata": {},
     "output_type": "display_data"
    }
   ],
   "source": [
    "using LinearAlgebra\n",
    "\n",
    "Y = data.Q8_2_data_Y\n",
    "D0 = data.Q8_2_data_D0\n",
    "C0 = data.Q8_2_data_C0\n",
    "s = data.Q8_2_data_s\n",
    "\n",
    "println(size(Y))\n",
    "println(size(D0))\n",
    "println(size(C0))\n",
    "println(s)\n",
    "\n",
    "function old(Y, D0, Csp)\n",
    "\n",
    "    # Step a) Find W, each row is the number of non-zero elements in kth row of Csp\n",
    "    W = []\n",
    "    for k in 1:size(Csp)[1]\n",
    "        w_k = []\n",
    "        for n in 1:size(Csp)[2]\n",
    "            if (Csp[k, n] != 0)\n",
    "                push!(w_k, n)\n",
    "            end\n",
    "        end\n",
    "        \n",
    "        push!(W, w_k)\n",
    "    end\n",
    "    \n",
    "    # Step b) Compute representation error matrices\n",
    "    E_tensor = []\n",
    "    \n",
    "    for k in 1:size(Csp)[1]\n",
    "        Ek = zeros(size(Y))\n",
    "        # if(W[k][1] != size(Csp)[2]+1)\n",
    "        if(!isempty(W[k]))\n",
    "            for p in 1:size(Csp)[1]\n",
    "                if (p != k)\n",
    "                    Ek = Ek + D0[:, p] * Csp[p, :]'\n",
    "                end\n",
    "            end\n",
    "        end\n",
    "        push!(E_tensor, Ek)\n",
    "    end\n",
    "\n",
    "    # Step c) Restrict columns of error matrices\n",
    "    Ekw_tensor = []\n",
    "    for k in 1:length(E_tensor)\n",
    "        Ekw = zeros(size(Y)[1], length(W[k]))\n",
    "        # if(W[k][1] != size(Csp)[2]+1)\n",
    "        if(!isempty(W[k]))\n",
    "            for j in 1:length(W[k])\n",
    "                Ekw[:, j] = E_tensor[k][:, W[k][j]]\n",
    "            end\n",
    "        end\n",
    "        push!(Ekw_tensor, Ekw)\n",
    "    end\n",
    "    \n",
    "    # Step d) SVD and updating\n",
    "    Dksvd = zeros(size(D0))\n",
    "    Cksvd = zeros(size(Csp))\n",
    "    # Cksvd = Csp\n",
    "    \n",
    "    for k in 1:size(D0)[2]\n",
    "        # if(W[k][1] != size(Csp)[2]+1)\n",
    "        if(!isempty(W[k]))\n",
    "            decomp = svd(Ekw_tensor[k])\n",
    "\n",
    "            Dksvd[:, k] = decomp.U[:, 1]\n",
    "            for j in 1:length(W[k])\n",
    "                Cksvd[k, W[k][j]] = decomp.S[1] * decomp.V[j, 1]\n",
    "            end\n",
    "        end\n",
    "    end\n",
    "\n",
    "    return Dksvd, Cksvd\n",
    "\n",
    "end\n",
    "\n",
    "function DU_KSVD(Y, D0, Csp)\n",
    "    K = size(D0, 2)\n",
    "    N = size(Csp, 2)\n",
    "    \n",
    "    D_ksvd = zeros(size(D0))\n",
    "    C_ksvd = zeros(size(Csp))\n",
    "\n",
    "    for k in 1:K\n",
    "        Csp_k = Csp[k, :]\n",
    "        w_k = [n for n in 1:N if Csp_k[n] != 0]\n",
    "        \n",
    "        subset = [p for p in 1:K if p != k]\n",
    "        Dsub = D0[:, subset]\n",
    "        Csub = Csp[subset, :]\n",
    "\n",
    "        E_k = Y - Dsub * Csub\n",
    "        E_kw = E_k[:, w_k]\n",
    "\n",
    "        U, s, V = svd(E_kw)\n",
    "\n",
    "        d_svd = U[:, 1]\n",
    "        c_svd = s[1] * V[:, 1]\n",
    "\n",
    "        D_ksvd[:, k] = d_svd\n",
    "        C_ksvd[k, w_k] = c_svd\n",
    "    end\n",
    "\n",
    "    return D_ksvd, C_ksvd\n",
    "\n",
    "end\n",
    "\n",
    "DU_KSVD(Y, D0, C0)"
   ]
  },
  {
   "cell_type": "markdown",
   "id": "20a0bdf2",
   "metadata": {},
   "source": [
    "### 2"
   ]
  },
  {
   "cell_type": "code",
   "execution_count": 21,
   "id": "d68ba955",
   "metadata": {},
   "outputs": [
    {
     "name": "stdout",
     "output_type": "stream",
     "text": [
      "Error 1: 6.098968329845044\n",
      "Error 2: 0.21625944017963128\n",
      "Error 3: 0.1587916630315628\n",
      "Error 4: 0.1404088375523666\n",
      "Error 5: 0.13039848853662805\n",
      "Error 6: 0.12551104703914268\n",
      "Error 7: 0.12246589852627476\n",
      "Error 8: 0.12016289873725121\n",
      "Error 9: 0.11812139004217556\n",
      "Error 10: 0.11651055676906798\n",
      "Error 11: 0.11447769121728597\n",
      "Error 12: 0.11318627673618387\n",
      "Error 13: 0.11193183499451108\n",
      "Error 14: 0.11126316153194585\n",
      "Error 15: 0.10995316044265498\n",
      "Error 16: 0.10922968111334169\n",
      "Error 17: 0.1077088435539022\n",
      "Error 18: 0.1077729127636369\n",
      "Error 19: 0.10601026859786143\n",
      "Error 20: 0.10700463053507105\n",
      "Error 21: 0.10782564565187401\n",
      "Error 22: 0.11002495542969908\n",
      "Error 23: 0.11175366515779504\n",
      "Error 24: 0.11248773067930531\n",
      "Error 25: 0.11386549158825357\n",
      "Error 26: 0.11583064049871325\n",
      "Error 27: 0.11730106438208049\n",
      "Error 28: 0.11656333829884799\n",
      "Error 29: 0.11759286096135418\n",
      "Error 30: 0.11663222007161662\n",
      "Error 31: 0.1149034779233069\n",
      "Error 32: 0.11256362988773194\n",
      "Error 33: 0.10829329286848399\n",
      "Error 34: 0.10663649985970494\n",
      "Error 35: 0.10501343041334922\n",
      "Error 36: 0.10421472744841938\n",
      "Error 37: 0.10213981717805215\n",
      "Error 38: 0.10066051664836564\n",
      "Error 39: 0.0991461832921332\n",
      "Error 40: 0.09828015496513924\n",
      "Error 41: 0.09664833530455431\n",
      "Error 42: 0.09594226700930727\n",
      "Error 43: 0.09490182764959634\n",
      "Error 44: 0.09380109745570085\n",
      "Error 45: 0.09238563504585841\n",
      "Error 46: 0.09169416125135536\n",
      "Error 47: 0.09116897110839202\n",
      "Error 48: 0.09122552216054944\n",
      "Error 49: 0.09116448662788804\n",
      "Error 50: 0.09155001021654662\n"
     ]
    }
   ],
   "source": [
    "\n",
    "# Initialisation\n",
    "iter = 50\n",
    "Dksvd = D0\n",
    "Cksvd = C0\n",
    "\n",
    "for i in 1:iter\n",
    "    # Uncomment to print error\n",
    "    err = norm(Y - (Dksvd * Cksvd))^2 / length(Y)\n",
    "    println(\"Error $i: $err\")\n",
    "    \n",
    "    Csp = SC_SP(Y, Dksvd, Cksvd, s)\n",
    "    Dksvd, Cksvd = DU_KSVD(Y, Dksvd, Csp)\n",
    "\n",
    "\n",
    "end\n",
    "# println(Dksvd[1, :])\n",
    "# println(Cksvd[1, :])\n"
   ]
  },
  {
   "cell_type": "markdown",
   "id": "a4ad055d",
   "metadata": {},
   "source": [
    "### 3"
   ]
  },
  {
   "cell_type": "code",
   "execution_count": 28,
   "id": "866b6c72",
   "metadata": {},
   "outputs": [
    {
     "name": "stdout",
     "output_type": "stream",
     "text": [
      "f: 24981.3742790453, normgrad: 465.3155963309245\n",
      "f: 885.7986669757697, normgrad: 86.60791036175678\n",
      "f: 650.4106517772813, normgrad: 71.7377632369515\n",
      "f: 575.1145986144936, normgrad: 67.36155923447986\n",
      "f: 534.1122090460285, normgrad: 64.28235580596383\n",
      "f: 514.0932486723284, normgrad: 63.385709731847584\n",
      "f: 501.62032036362143, normgrad: 62.28894199667987\n",
      "f: 492.18723322778095, normgrad: 61.78412525485747\n",
      "f: 483.8252136127511, normgrad: 60.99650482998314\n",
      "f: 477.22724052610243, normgrad: 60.7712893204894\n",
      "f: 468.90062322600335, normgrad: 59.73982650339105\n",
      "f: 463.6109895114091, normgrad: 59.574530014034735\n",
      "f: 458.4727961375174, normgrad: 58.77488886459419\n",
      "f: 455.7339096348502, normgrad: 58.849141940817205\n",
      "f: 450.3681451731148, normgrad: 57.84248901648582\n",
      "f: 447.40477384024757, normgrad: 57.88569958047387\n",
      "f: 441.1754231967834, normgrad: 56.95854106920298\n",
      "f: 441.43785067985675, normgrad: 57.230297172182325\n",
      "f: 434.2180601768404, normgrad: 56.06468217836796\n",
      "f: 438.290966671651, normgrad: 56.56469546991052\n",
      "f: 441.65384459007595, normgrad: 56.23366738616964\n",
      "f: 450.6622174400474, normgrad: 57.10169664440531\n",
      "f: 457.7430124863285, normgrad: 57.1160442410821\n",
      "f: 460.74974486243457, normgrad: 57.65352054504451\n",
      "f: 466.3930535454866, normgrad: 57.60336983030632\n",
      "f: 474.44230348272947, normgrad: 58.40193100859382\n",
      "f: 480.4651597090017, normgrad: 58.50378835279478\n",
      "f: 477.44343367208137, normgrad: 58.389732702578016\n",
      "f: 481.66035849770674, normgrad: 58.44638912709572\n",
      "f: 477.7255734133417, normgrad: 57.887501900633396\n",
      "f: 470.64464557386503, normgrad: 57.40454470563853\n",
      "f: 461.06062802015003, normgrad: 56.49882938188567\n",
      "f: 443.56932758931043, normgrad: 55.64543312857873\n",
      "f: 436.78310342535144, normgrad: 54.7015132533721\n",
      "f: 430.1350109730784, normgrad: 54.68312146515352\n",
      "f: 426.8635236287258, normgrad: 54.042932004458635\n",
      "f: 418.3646911613016, normgrad: 53.91634484182421\n",
      "f: 412.3054761917057, normgrad: 53.0498398702367\n",
      "f: 406.1027667645776, normgrad: 53.04258839562275\n",
      "f: 402.55551473721033, normgrad: 52.25117174304925\n",
      "f: 395.87158140745447, normgrad: 52.1421591420683\n",
      "f: 392.9795256701226, normgrad: 51.47291909350644\n",
      "f: 388.7178860527466, normgrad: 51.491399102496594\n",
      "f: 384.2092951785507, normgrad: 50.757138739669486\n",
      "f: 378.41156114783604, normgrad: 50.56822893570577\n",
      "f: 375.57928448555157, normgrad: 50.118117917336974\n",
      "f: 373.4281056599737, normgrad: 50.05558228795622\n",
      "f: 373.6597387696105, normgrad: 49.89093326363511\n",
      "f: 373.4097372278294, normgrad: 49.9359306435541\n",
      "f: 374.98884184697494, normgrad: 49.94645981725732\n"
     ]
    }
   ],
   "source": [
    "function f_and_gradf(Y, D, C)\n",
    "    f = (norm(Y - (D * C)))^2\n",
    "    grad = 2 * adjoint(D) * (Y - (D*C))\n",
    "    norm_grad = norm(grad)\n",
    "\n",
    "    println(\"f: $f, normgrad: $norm_grad\")\n",
    "\n",
    "    return f, norm_grad\n",
    "end\n",
    "\n",
    "# Initialisation\n",
    "iter = 50\n",
    "Dksvd = D0\n",
    "Cksvd = C0\n",
    "\n",
    "for i in 1:iter\n",
    "    f_and_gradf(Y, Dksvd, Cksvd)\n",
    "    Csp = SC_SP(Y, Dksvd, Cksvd, s)\n",
    "    Dksvd, Cksvd = DU_KSVD(Y, Dksvd, Csp)\n",
    "\n",
    "\n",
    "    # Uncomment to print error\n",
    "    # err = norm(Y - (Dcur * Ccur))^2 / length(Y)\n",
    "    # println(\"Error $i: $err\")\n",
    "end"
   ]
  }
 ],
 "metadata": {
  "kernelspec": {
   "display_name": "Julia 1.11.0",
   "language": "julia",
   "name": "julia-1.11"
  },
  "language_info": {
   "file_extension": ".jl",
   "mimetype": "application/julia",
   "name": "julia",
   "version": "1.11.0"
  }
 },
 "nbformat": 4,
 "nbformat_minor": 5
}
