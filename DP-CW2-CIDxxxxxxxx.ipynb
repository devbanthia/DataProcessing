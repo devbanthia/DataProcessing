{
 "cells": [
  {
   "cell_type": "markdown",
   "id": "5a6b0940",
   "metadata": {},
   "source": [
    "# Coursework 2\n",
    "\n",
    "### PLAGIARISM/COLLUSION DECLARATION\n",
    "\n",
    " \n",
    "\n",
    "Coursework submitted for assessment must be the original work of you and your group. Assignments are subjected to regular checks for plagiarism and/or collusion. Plagiarism is the presentation of another person’s thoughts or words (those outside your group) as if they were your own. Collusion involves obtaining help from someone outside your group to complete your work. In preparing your coursework, you should not seek help, or copy from any other person or source, including the\n",
    "\n",
    "Internet, without proper and explicit acknowledgement.\n",
    "\n",
    " \n",
    "\n",
    "There is a procedure in place for you to declare individual contributions within your group for courswork. You must declare the contributions fairly and accurately.\n",
    "\n",
    " \n",
    "\n",
    "You must not disclose your solutions or insights related to coursework with anyone else, including future students or the Internet.\n",
    "\n",
    " \n",
    "\n",
    "By acknowledging the the statements above, you are declaring that both this and all subsequent pieces of coursework are, and will remain, the original work of you and your group.\n",
    "\n",
    " \n",
    "\n",
    "* Submissions will not be accepted without the aforementioned declaration.\n",
    "\n",
    " \n",
    "\n",
    "* Members of a group are deemed to have collective responsibility for the integrity for work submitted and are liable for any penalty imposed, proportionate to their contributions."
   ]
  },
  {
   "cell_type": "code",
   "execution_count": 20,
   "id": "156ebb80",
   "metadata": {},
   "outputs": [],
   "source": [
    "using JLD2,FileIO"
   ]
  },
  {
   "cell_type": "code",
   "execution_count": 21,
   "id": "b570716e",
   "metadata": {},
   "outputs": [
    {
     "data": {
      "text/plain": [
       "CourseWork_2"
      ]
     },
     "metadata": {},
     "output_type": "display_data"
    }
   ],
   "source": [
    "Base.@kwdef mutable struct CourseWork_2\n",
    "    CID::Int\n",
    "    Plagiarism_declare::Union{Missing,Bool}\n",
    "    \n",
    "    # 7.1 Estimation Accuracy\n",
    "    \n",
    "    Q7_1_data_A::Matrix{Float64}\n",
    "    \n",
    "    Q7_1_a_ans_w::Union{Missing,Vector}\n",
    "    Q7_1_a_ans_err::Union{Missing,Float64}\n",
    "    Q7_1_b_ans_w::Union{Missing,Vector}\n",
    "    Q7_1_b_ans_err::Union{Missing,Float64}\n",
    "    Q7_1_c_ans_err::Union{Missing,Float64}\n",
    "    \n",
    "     # 7.2 Greedy Algorithms\n",
    "    \n",
    "    Q7_2_1_data_y::Vector\n",
    "    Q7_2_1_data_A::Matrix\n",
    "    Q7_2_1_data_S::Int\n",
    "    \n",
    "    Q7_2_1_ans_x::Union{Missing,Vector}\n",
    "    \n",
    "    Q7_2_2_data_y::Vector\n",
    "    Q7_2_2_data_A::Matrix\n",
    "    Q7_2_2_data_S::Int\n",
    "    \n",
    "    Q7_2_2_ans_x::Union{Missing,Vector}\n",
    "    \n",
    "    Q7_2_3_data_y::Vector\n",
    "    Q7_2_3_data_A::Matrix\n",
    "    Q7_2_3_data_S::Int\n",
    "    \n",
    "    Q7_2_3_ans_x::Union{Missing,Vector}\n",
    "    \n",
    "    # 8.1 The MOD Method\n",
    "    \n",
    "    Q8_1_data_Y::Matrix\n",
    "    Q8_1_data_D0::Matrix\n",
    "    Q8_1_data_C0::Matrix\n",
    "    Q8_1_data_s::Int\n",
    "    \n",
    "    Q8_1_1_ans_Comp::Union{Missing,Matrix}\n",
    "    Q8_1_2_ans_Csp::Union{Missing,Matrix}\n",
    "    Q8_1_3_ans_Dmod::Union{Missing,Matrix}\n",
    "    Q8_1_4_ans_C50::Union{Missing,Matrix}\n",
    "    Q8_1_4_ans_D50::Union{Missing,Matrix}\n",
    "    Q8_1_5_ans_f::Union{Missing,Vector}\n",
    "    Q8_1_5_ans_gradf::Union{Missing,Vector}\n",
    "    \n",
    "    # 8.2 The K-SVD Method\n",
    "    \n",
    "    Q8_2_data_Y::Matrix\n",
    "    Q8_2_data_D0::Matrix\n",
    "    Q8_2_data_C0::Matrix\n",
    "    Q8_2_data_s::Int\n",
    "    \n",
    "    Q8_2_1_ans_Ckscd::Union{Missing,Matrix}\n",
    "    Q8_2_1_ans_Dkscd::Union{Missing,Matrix}\n",
    "    Q8_2_2_ans_C50::Union{Missing,Matrix}\n",
    "    Q8_2_2_ans_D50::Union{Missing,Matrix}\n",
    "    Q8_2_3_ans_f::Union{Missing,Vector}\n",
    "    Q8_2_3_ans_gradf::Union{Missing,Vector}\n",
    "    \n",
    "    \n",
    "end"
   ]
  },
  {
   "cell_type": "code",
   "execution_count": 22,
   "id": "30132ba3",
   "metadata": {},
   "outputs": [
    {
     "data": {
      "text/plain": [
       "CourseWork_2(2016674, missing, [6.241721161255183 4.3833479018275625 … 4.723291032514396 4.914933966242956; 4.3833479018275625 5.3441149344285925 … 4.036482479841339 4.420052371130021; … ; 4.723291032514396 4.036482479841339 … 5.556818064841123 5.449901584843792; 4.914933966242956 4.420052371130021 … 5.449901584843792 6.290400040766449], missing, missing, missing, missing, missing, [-0.3215142162434899, -0.20743986111955076, -0.30010762842848554, -0.1939895552625288, -0.01582866928981454, 0.28938805764103565, -0.28713189963215413, 0.41984134379947163, 0.08984779465282412, 0.14479291759338486  …  0.40827803074088553, -0.18181724355398374, -0.19863724476373407, -0.2992676053064818, 0.787511268319871, -0.07480016676901381, 0.09416225164505233, -0.2368429034702739, 0.23901562132959572, 0.06080053200024716], [0.18395762760195788 0.02944481109789814 … 0.2989090159651482 -0.08513575777754952; 0.0015069902494225485 0.15299668583435583 … 0.22196583253548793 0.21083156219927665; … ; 0.22609852256773671 0.22570439282709803 … -0.06543622007112555 -0.1681073534520707; -0.40731413381515863 -0.021528511793161818 … -0.06527474930557718 -0.1643785044395163], 5, missing, [-0.4730728915218284, 0.1807644114707305, -0.46635007797915745, 0.4324379765110905, -0.24077408193781039, -0.07385751473854191, 0.23773349526895907, 0.49262663461874395, -0.2899425662628726, 0.4120312596978082  …  -0.35977811061937215, -0.926155591821151, 0.46683676222003706, 0.5147204867929035, 0.0018750949366383076, 0.5417889790348028, 0.48367778442000015, 0.17128954369874208, -0.006145227296313905, -0.41440846333681786], [0.1430885980786953 0.11917719209144047 … 0.11030340743016152 -0.02626076992616556; 0.15834601456944625 0.18735665734384066 … 0.3543032792546317 0.02085253919744879; … ; 0.07618143090835128 -0.05489274565318981 … 0.24864935431230484 -0.10720530541019355; 0.2513008349163079 0.06733747690145427 … -0.11425928722820645 -0.08633726334916933], 5, missing, [-0.0778024239767281, -1.0441785468380986, 1.205076026495926, 0.17250493644922552, -0.7433812536265121, 0.17732290959874686, 0.7260415719921159, -0.4668326437325617, -0.19683554437089706, 0.5289538603890303  …  -0.10586387876473886, 0.18394434280752361, -0.7171379291254371, -0.13742743642732355, 0.38367639547986493, 0.3835403613721184, -0.2513802919090569, 0.6294571662858418, -0.21396356435868688, 0.29572235432504956], [-0.14619735573776854 -0.09365171960592404 … 0.11231230739545486 -0.15523795414299205; 0.02206923163083247 -0.14000374599162485 … 0.0695115588258295 0.44025511908362164; … ; -0.16491418373478117 0.07040413270673077 … 0.14090170452869544 -0.07016892428603932; -0.061982805656385975 -0.14545548173984288 … -0.05688404880848328 0.07078628613210938], 5, missing, [-1.0757534960451636 1.073930224727586 … 0.8613343208948991 -0.0827021579796942; -0.9455785713211015 0.8216893126301837 … -0.1455788915180197 -0.1637223248463922; … ; 0.4220370312275441 -0.2003670539705813 … -0.36476546191046005 -1.9360578874070908; -1.099692703473783 0.5680146644425726 … -2.033997283802872 -1.2221160350992495], [-0.6900289362764495 -0.7476942030007173 … -0.6608121355178559 -0.07696421512665283; -0.9946143235693797 -0.12339273259587709 … -0.8375321641380986 0.05777864759506001; … ; -0.06911437347767141 -1.2801303496500716 … 0.07766645322507922 -1.0123915528101823; 0.18816722120421175 0.35781838796873133 … 0.3123118783935524 -1.6351290058343169], [0.0 0.0 … 0.0 0.0; 0.0 0.0 … 0.0 0.0; … ; 1.6655611299924797 0.0 … 0.0 0.0; 0.0 0.0 … 0.0 0.0], 5, missing, missing, missing, missing, missing, missing, missing, [-1.6543240497615335 -1.0198885487868967 … -0.24051805482024383 0.4921316430268103; -1.3787858630495586 -0.0159074468517432 … -0.8404965668128592 0.34925946335047664; … ; 0.544096906794678 0.24176532013015814 … 0.3172135711891516 -0.2998416009736069; -0.22302015578695894 -0.41429282853525184 … 1.641763319902031 0.033874441179168935], [0.23010132045454645 -0.06370408342076789 … -0.29191590714837135 -0.3735715392150687; -0.21700528945658287 0.1757615493402537 … -0.332278074541278 0.06311281749922029; … ; 0.26378244985275295 -0.13857168058431882 … -0.17305956094582828 -0.24394223970787662; 0.09152488794735854 0.007798862853729729 … -0.19375483962903126 0.12209814493154918], [0.0 0.0 … 0.0 0.0; 0.0 0.0 … 0.0 0.0; … ; -3.225949469877689 0.0 … 0.0 1.1804334507587178; 0.0 0.0 … 0.0 0.0], 5, missing, missing, missing, missing, missing, missing)"
      ]
     },
     "metadata": {},
     "output_type": "display_data"
    }
   ],
   "source": [
    "\n",
    "\n",
    "\n",
    "A = JLD2.load(\"Banthia Dev2016674StudentFile.jld2\");\n",
    "\n",
    "A = A[\"CourseWork_2\"];\n",
    "\n",
    "A\n",
    " \n",
    "\n",
    "# jldopen(\"xxx.jld2\", \"w\") do file\n",
    "\n",
    "#    write(file, \"CourseWork_2\", A)\n",
    "\n",
    "# end"
   ]
  },
  {
   "cell_type": "markdown",
   "id": "6861a416",
   "metadata": {},
   "source": [
    "## 7.1. Estimation Accuracy\n"
   ]
  },
  {
   "cell_type": "markdown",
   "id": "90b22aba",
   "metadata": {},
   "source": [
    "### 1. (a)"
   ]
  },
  {
   "cell_type": "code",
   "execution_count": 23,
   "id": "ee609657",
   "metadata": {},
   "outputs": [
    {
     "name": "stdout",
     "output_type": "stream",
     "text": [
      "1.0000000000000002\n",
      "[-0.2866099316323966, -0.2735738869456807, -0.275110332495816, -0.20254052359632677, -0.2515659391520371, -0.22606783496258134, -0.2761186333557751, -0.2399296776494263, -0.19563446414287952, -0.23339617662630685, -0.2682096462421956, -0.165995290218401, -0.207326456778322, -0.2788299794964844, -0.28429676890894295, -0.29036414996088245]\n"
     ]
    },
    {
     "data": {
      "text/plain": [
       "0.00028370828602538244"
      ]
     },
     "metadata": {},
     "output_type": "display_data"
    }
   ],
   "source": [
    "# save your answers in Q7_1_a_ans_w and Q7_1_a_ans_err\n",
    "using LinearAlgebra\n",
    "\n",
    "A = A.Q7_1_data_A\n",
    "A_hat = inv(adjoint(A) * A) * adjoint(A)\n",
    "A_hat_SVD = svd(A_hat)\n",
    "\n",
    "S = A_hat_SVD.S\n",
    "V = A_hat_SVD.V\n",
    "\n",
    "w_min = V[:, end]\n",
    "println(norm(w_min))\n",
    "println(w_min)\n",
    "\n",
    "sol = adjoint(A_hat * w_min) * (A_hat * w_min)\n",
    "# Test solution\n",
    "# println(sol)\n",
    "# println(S[end]*S[end])"
   ]
  },
  {
   "cell_type": "markdown",
   "id": "d2cfd18e",
   "metadata": {},
   "source": [
    "### 1. (b)"
   ]
  },
  {
   "cell_type": "code",
   "execution_count": 24,
   "id": "fa8a298f",
   "metadata": {},
   "outputs": [
    {
     "name": "stdout",
     "output_type": "stream",
     "text": [
      "1.0\n",
      "[-0.4552312129964472, 0.07073956179615414, 0.3987116565300202, 0.24144750465687437, -0.41822896470571663, -0.1316152502311507, 0.33880031853825254, 0.02349555077187621, -0.020577965325504172, -0.07887855551702329, -0.2117833851648671, 0.43447884650810575, 0.0815114992742374, -0.002431966292329101, 0.0468439503381529, -0.11748656375624197]\n"
     ]
    },
    {
     "data": {
      "text/plain": [
       "83372.11243034284"
      ]
     },
     "metadata": {},
     "output_type": "display_data"
    }
   ],
   "source": [
    "# save your answers in Q7_1_b_ans_w and Q7_1_b_ans_err\n",
    "\n",
    "A_hat = inv(adjoint(A) * A) * adjoint(A)\n",
    "A_hat_SVD = svd(A_hat)\n",
    "\n",
    "S = A_hat_SVD.S\n",
    "V = A_hat_SVD.V\n",
    "\n",
    "w_max = V[:, 1]\n",
    "println(norm(w_max))\n",
    "println(w_max)\n",
    "\n",
    "sol = adjoint(A_hat * w_max) * (A_hat * w_max)\n",
    "\n",
    "# Test solution\n",
    "# println(sol)\n",
    "# println(S[1]*S[1])\n"
   ]
  },
  {
   "cell_type": "markdown",
   "id": "f2c0b5e8",
   "metadata": {},
   "source": [
    "### 1. (c)"
   ]
  },
  {
   "cell_type": "code",
   "execution_count": 25,
   "id": "9674d13e",
   "metadata": {},
   "outputs": [
    {
     "data": {
      "text/plain": [
       "5448.141452741144"
      ]
     },
     "metadata": {},
     "output_type": "display_data"
    }
   ],
   "source": [
    "A_hat = inv(adjoint(A) * A) * adjoint(A)\n",
    "# Using expectation of quadratic form\n",
    "Exp = tr(adjoint(A_hat) * A_hat) / size(A_hat, 1)"
   ]
  },
  {
   "cell_type": "markdown",
   "id": "678c1375",
   "metadata": {},
   "source": [
    "## 7.2. Greedy Algorithms"
   ]
  },
  {
   "cell_type": "markdown",
   "id": "c624748e",
   "metadata": {},
   "source": [
    "### 1"
   ]
  },
  {
   "cell_type": "code",
   "execution_count": 26,
   "id": "a33173ff",
   "metadata": {},
   "outputs": [
    {
     "ename": "ErrorException",
     "evalue": "type Array has no field Q7_2_1_data_y",
     "output_type": "error",
     "traceback": [
      "type Array has no field Q7_2_1_data_y\n",
      "\n",
      "Stacktrace:\n",
      " [1] getproperty(x::Matrix{Float64}, f::Symbol)\n",
      "   @ Base ./Base.jl:49\n",
      " [2] top-level scope\n",
      "   @ ~/Documents/Topics/CW_GitHub/DataProcessing27/jl_notebook_cell_df34fa98e69747e1a8f8a730347b8e2f_X16sZmlsZQ==.jl:4"
     ]
    }
   ],
   "source": [
    "using LinearAlgebra\n",
    "\n",
    "\n",
    "y = A.Q7_2_1_data_y\n",
    "A_matrix = A.Q7_2_1_data_A\n",
    "S = A.Q7_2_1_data_S\n",
    "\n",
    "\n",
    "function compute_best_fit_solution(X, y)\n",
    "    return X \\ y  \n",
    "end\n",
    "\n",
    "function expand_support(A, y, k, sparse_set)\n",
    "    correlation = A' * y\n",
    "    top_k = partialsortperm(abs.(correlation), length(correlation) - k + 1:length(correlation))\n",
    "    sparse_set = union(sparse_set, Set(top_k))\n",
    "\n",
    "    return sparse_set\n",
    "end\n",
    "\n",
    "function OMP(A, y, S)\n",
    "    sparse_set = Set{Int}()\n",
    "    \n",
    "    residual = y\n",
    "    sparse_solution = zeros(size(A, 2))\n",
    "    x_hat = zeros(length(S))\n",
    "    \n",
    "    for i in 1:S\n",
    "        correlation = A' * residual\n",
    "        # The OMP algorithm extracts the index of the largest\n",
    "        # column, but the line below extracts the ith largest column\n",
    "        # perhaps change the i to a 1\n",
    "        S_max = sortperm(abs.(correlation), rev=true)[i]\n",
    "        push!(sparse_set, S_max)\n",
    "\n",
    "        col_indices = collect(sparse_set)\n",
    "        A_subset = A[:, col_indices]\n",
    "\n",
    "        # This should be the pseudo inverse of A_subset multiplied by y\n",
    "        x_hat = compute_best_fit_solution(A_subset, y)\n",
    "\n",
    "        # The residual needs to be updated for the next iteration\n",
    "\n",
    "    end\n",
    "\n",
    "    for (i, j) in zip(sparse_set, x_hat)\n",
    "        sparse_solution[i] = j\n",
    "    end\n",
    "\n",
    "    return sparse_solution\n",
    "end\n",
    "\n",
    "\n",
    "sparse_solution = OMP(A_matrix, y , S)\n",
    "residual = y - A_matrix * sparse_solution\n",
    "\n",
    "# When running the below on my code, I get a residual of 0.45555\n",
    "println(sum(abs.(residual)))\n",
    "println(sparse_solution)\n"
   ]
  },
  {
   "cell_type": "markdown",
   "id": "adf33d97",
   "metadata": {},
   "source": [
    "### 2"
   ]
  },
  {
   "cell_type": "code",
   "execution_count": 27,
   "id": "d63e9a83",
   "metadata": {},
   "outputs": [
    {
     "ename": "ErrorException",
     "evalue": "type Array has no field Q7_2_2_data_y",
     "output_type": "error",
     "traceback": [
      "type Array has no field Q7_2_2_data_y\n",
      "\n",
      "Stacktrace:\n",
      " [1] getproperty(x::Matrix{Float64}, f::Symbol)\n",
      "   @ Base ./Base.jl:49\n",
      " [2] top-level scope\n",
      "   @ ~/Documents/Topics/CW_GitHub/DataProcessing27/jl_notebook_cell_df34fa98e69747e1a8f8a730347b8e2f_X21sZmlsZQ==.jl:5"
     ]
    }
   ],
   "source": [
    "# Don't forget to initialise the different data!\n",
    "# Each question for 7.2 has a different piece of data being used\n",
    "# I've added this below for you\n",
    "# Besides this, we are getting the same result on both of our code\n",
    "y = A.Q7_2_2_data_y\n",
    "A_matrix = A.Q7_2_2_data_A\n",
    "S = A.Q7_2_2_data_S\n",
    "\n",
    "function SMP(A, y, k, C = nothing)\n",
    "\n",
    "    sparse_set = Set()\n",
    "    sparse_solution = zeros(size(A, 2))\n",
    "\n",
    "    if C == nothing \n",
    "        sparse_set = expand_support(A, y, k, sparse_set)\n",
    "  \n",
    "\n",
    "    else\n",
    "        residual = y - A*C\n",
    "        sparse_set = expand_support(A, residual, k, sparse_set)\n",
    "    end\n",
    "\n",
    "    A_subset = A[:, collect(sparse_set)]\n",
    "    x_hat = compute_best_fit_solution(A_subset, y)\n",
    "    residual = y - A_subset * x_hat\n",
    "\n",
    "\n",
    "    n = 10\n",
    "    for i in 1:n \n",
    "        sparse_set = expand_support(A, residual, k, sparse_set)\n",
    "        A_subset = A[:, collect(sparse_set)]\n",
    "        x_hat = compute_best_fit_solution(A_subset, y)\n",
    "        \n",
    "        # Get k most significant indices\n",
    "        k_most_significant_x = partialsortperm(abs.(x_hat), 1:k, rev=true)\n",
    "        sparse_set = Set(collect(sparse_set)[k_most_significant_x])\n",
    "        \n",
    "        A_subset = A[:, collect(sparse_set)]\n",
    "        x_hat = compute_best_fit_solution(A_subset, y)\n",
    "        residual = y - A_subset * x_hat\n",
    "    end\n",
    "\n",
    "    for (i, j) in zip(sparse_set, x_hat)\n",
    "        sparse_solution[i] = j\n",
    "    end\n",
    "\n",
    "    return sparse_solution\n",
    "\n",
    "end\n",
    "\n",
    "SMP(A_matrix, y, S)\n",
    "\n"
   ]
  },
  {
   "cell_type": "markdown",
   "id": "4fb3e9b3",
   "metadata": {},
   "source": [
    "### 3"
   ]
  },
  {
   "cell_type": "code",
   "execution_count": 28,
   "id": "7e707d5d",
   "metadata": {},
   "outputs": [
    {
     "ename": "ErrorException",
     "evalue": "type Array has no field Q7_2_3_data_y",
     "output_type": "error",
     "traceback": [
      "type Array has no field Q7_2_3_data_y\n",
      "\n",
      "Stacktrace:\n",
      " [1] getproperty(x::Matrix{Float64}, f::Symbol)\n",
      "   @ Base ./Base.jl:49\n",
      " [2] top-level scope\n",
      "   @ ~/Documents/Topics/CW_GitHub/DataProcessing27/jl_notebook_cell_df34fa98e69747e1a8f8a730347b8e2f_X23sZmlsZQ==.jl:3"
     ]
    }
   ],
   "source": [
    "using LinearAlgebra\n",
    "\n",
    "y = A.Q7_2_3_data_y\n",
    "A_matrix = A.Q7_2_3_data_A\n",
    "S = A.Q7_2_3_data_S\n",
    "# We get the same result for the same data if your step-size is 1\n",
    "function HIT(A, y, k)\n",
    "    x = zeros(size(A, 2)) \n",
    "\n",
    "    for i in 1:10000\n",
    "        # The instructions do not mention a step-size 𝜏, so maybe\n",
    "        # it's best to multiply by 1 instead of 0.01, i.e. remove it\n",
    "        x -= 0.01 * (A' * (A * x - y))\n",
    "\n",
    "        top_k_indices = partialsortperm(abs.(x), length(x) - k + 1:length(x))\n",
    "        x[setdiff(1:end, top_k_indices)] .= 0\n",
    "    end\n",
    "    println(x)\n",
    "    return x\n",
    "end\n",
    "\n",
    "\n",
    "x = HIT(A_matrix, y, S)\n"
   ]
  },
  {
   "cell_type": "markdown",
   "id": "c3c69679",
   "metadata": {},
   "source": [
    "## 8.1. The MOD Method"
   ]
  },
  {
   "cell_type": "markdown",
   "id": "033f3913",
   "metadata": {},
   "source": [
    "### 1"
   ]
  },
  {
   "cell_type": "code",
   "execution_count": 29,
   "id": "03d8e937",
   "metadata": {},
   "outputs": [
    {
     "ename": "ErrorException",
     "evalue": "type Array has no field Q8_1_data_Y",
     "output_type": "error",
     "traceback": [
      "type Array has no field Q8_1_data_Y\n",
      "\n",
      "Stacktrace:\n",
      " [1] getproperty(x::Matrix{Float64}, f::Symbol)\n",
      "   @ Base ./Base.jl:49\n",
      " [2] top-level scope\n",
      "   @ ~/Documents/Topics/CW_GitHub/DataProcessing27/jl_notebook_cell_df34fa98e69747e1a8f8a730347b8e2f_X26sZmlsZQ==.jl:1"
     ]
    }
   ],
   "source": [
    "Y = A.Q8_1_data_Y\n",
    "D0 = A.Q8_1_data_D0\n",
    "C0 = A.Q8_1_data_C0\n",
    "s = A.Q8_1_data_s\n",
    "\n",
    "# Our code below is the same\n",
    "\n",
    "function construct_C_omp(D0, Y, s)\n",
    "\n",
    "    num_rows = size(D0, 2)\n",
    "    num_cols = size(Y, 2)\n",
    "    C_omp = zeros(num_rows, num_cols)\n",
    "\n",
    "    for i in 1:num_cols\n",
    "        # sparse_col = greedy_OMP(Y[:,i], D0, s)\n",
    "        sparse_col = OMP(D0, Y[:,i], s)\n",
    "        C_omp[:, i] = sparse_col\n",
    "    \n",
    "    end\n",
    "    println(size(C_omp))\n",
    "    return C_omp\n",
    "\n",
    "end\n",
    "    \n",
    "\n",
    "C_omp = construct_C_omp(D0, Y, s)\n",
    "# residual = abs.(Y - D0*C_omp)\n",
    "\n"
   ]
  },
  {
   "cell_type": "markdown",
   "id": "3cc82ff1",
   "metadata": {},
   "source": [
    "### 2"
   ]
  },
  {
   "cell_type": "code",
   "execution_count": 30,
   "id": "cf1f7c65",
   "metadata": {},
   "outputs": [
    {
     "ename": "UndefVarError",
     "evalue": "UndefVarError: `D0` not defined in `Main`\nSuggestion: check for spelling errors or missing imports.",
     "output_type": "error",
     "traceback": [
      "UndefVarError: `D0` not defined in `Main`\n",
      "Suggestion: check for spelling errors or missing imports.\n",
      "\n",
      "Stacktrace:\n",
      " [1] top-level scope\n",
      "   @ ~/Documents/Topics/CW_GitHub/DataProcessing27/jl_notebook_cell_df34fa98e69747e1a8f8a730347b8e2f_X31sZmlsZQ==.jl:28"
     ]
    }
   ],
   "source": [
    "# Our code achieves the same thing for the task below\n",
    "\n",
    "function construct_C_smp(D0, Y, s, C0 = nothing)\n",
    "\n",
    "    num_rows = size(D0, 2)\n",
    "    num_cols = size(Y, 2)\n",
    "    C_smp = zeros(num_rows, num_cols)\n",
    "\n",
    "    for i in 1:num_cols\n",
    "\n",
    "        if C0 != nothing\n",
    "            sparse_col = SMP(D0, Y[:,i], s, C0[:, i])\n",
    "        else\n",
    "            sparse_col = SMP(D0, Y[:,i], s)\n",
    "        \n",
    "        end\n",
    "\n",
    "        C_smp[:, i] = sparse_col\n",
    "    \n",
    "    end\n",
    "\n",
    "    return C_smp\n",
    "\n",
    "end\n",
    "\n",
    "# residual = abs.(Y - D0*C0)\n",
    "# println(sum(residual))\n",
    "construct_C_smp(D0, Y, s, C0)\n",
    "# C_smp = construct_C_smp(D0, Y, s, C0)\n",
    "# residual = abs.(Y - D0*C_smp)\n",
    "# println(sum(residual))"
   ]
  },
  {
   "cell_type": "markdown",
   "id": "4be697fe",
   "metadata": {},
   "source": [
    "### 3"
   ]
  },
  {
   "cell_type": "code",
   "execution_count": 31,
   "id": "7b3143e5",
   "metadata": {},
   "outputs": [
    {
     "ename": "UndefVarError",
     "evalue": "UndefVarError: `Y` not defined in `Main`\nSuggestion: check for spelling errors or missing imports.",
     "output_type": "error",
     "traceback": [
      "UndefVarError: `Y` not defined in `Main`\n",
      "Suggestion: check for spelling errors or missing imports.\n",
      "\n",
      "Stacktrace:\n",
      " [1] top-level scope\n",
      "   @ ~/Documents/Topics/CW_GitHub/DataProcessing27/jl_notebook_cell_df34fa98e69747e1a8f8a730347b8e2f_X33sZmlsZQ==.jl:6"
     ]
    }
   ],
   "source": [
    "function DU_mod(Y, C)\n",
    "    # before you return D1 it should be normalised I think\n",
    "    return Y * C' * inv(C * C')\n",
    "end\n",
    "\n",
    "D1 = DU_mod(Y, C0)"
   ]
  },
  {
   "cell_type": "markdown",
   "id": "9e750483",
   "metadata": {},
   "source": [
    "### 4"
   ]
  },
  {
   "cell_type": "code",
   "execution_count": 32,
   "id": "c46a2416",
   "metadata": {},
   "outputs": [
    {
     "ename": "UndefVarError",
     "evalue": "UndefVarError: `Y` not defined in `Main`\nSuggestion: check for spelling errors or missing imports.",
     "output_type": "error",
     "traceback": [
      "UndefVarError: `Y` not defined in `Main`\n",
      "Suggestion: check for spelling errors or missing imports.\n",
      "\n",
      "Stacktrace:\n",
      " [1] top-level scope\n",
      "   @ ~/Documents/Topics/CW_GitHub/DataProcessing27/jl_notebook_cell_df34fa98e69747e1a8f8a730347b8e2f_X35sZmlsZQ==.jl:20"
     ]
    }
   ],
   "source": [
    "function MOD(Y, D0, C0)\n",
    "\n",
    "    D = D0\n",
    "    C_smp = C0\n",
    "    error_vec = zeros(50)\n",
    "    grad_vec = zeros(50)\n",
    "    for i in 1:50\n",
    "        \n",
    "        error, grad = compute_error_and_error_gradient(Y, D, C_smp)\n",
    "        error_vec[i] = error\n",
    "        grad_vec[i] = grad\n",
    "        C_smp = construct_C_smp(D, Y, s, C_smp)\n",
    "        D = DU_mod(Y, C_smp) \n",
    "\n",
    "    end\n",
    "\n",
    "    return C_smp, D, error_vec, grad_vec\n",
    "end\n",
    "\n",
    "MOD(Y, D0, C0)\n"
   ]
  },
  {
   "cell_type": "markdown",
   "id": "558fe72c",
   "metadata": {},
   "source": [
    "### 5"
   ]
  },
  {
   "cell_type": "code",
   "execution_count": 33,
   "id": "7df53915",
   "metadata": {},
   "outputs": [
    {
     "data": {
      "text/plain": [
       "compute_error_and_error_gradient (generic function with 1 method)"
      ]
     },
     "metadata": {},
     "output_type": "display_data"
    }
   ],
   "source": [
    "function compute_error_and_error_gradient(Y, D, C)\n",
    "    # I think the frobenius error needs to be squared, since f = frobenius^2\n",
    "    error_frobenius_norm = norm(Y - D*C, 2)\n",
    "    gradient_frobenius_norm =  norm(D' * (2 * (D * C - Y)), 2)\n",
    "\n",
    "    return error_frobenius_norm, gradient_frobenius_norm \n",
    "\n",
    "end\n",
    "    "
   ]
  },
  {
   "cell_type": "markdown",
   "id": "3f6ba8e4",
   "metadata": {},
   "source": [
    "## 8.1. The K-SVD Method"
   ]
  },
  {
   "cell_type": "markdown",
   "id": "01791a06",
   "metadata": {},
   "source": [
    "### 1"
   ]
  },
  {
   "cell_type": "code",
   "execution_count": 34,
   "id": "aad83192",
   "metadata": {},
   "outputs": [
    {
     "ename": "UndefVarError",
     "evalue": "UndefVarError: `Y` not defined in `Main`\nSuggestion: check for spelling errors or missing imports.",
     "output_type": "error",
     "traceback": [
      "UndefVarError: `Y` not defined in `Main`\n",
      "Suggestion: check for spelling errors or missing imports.\n",
      "\n",
      "Stacktrace:\n",
      " [1] top-level scope\n",
      "   @ ~/Documents/Topics/CW_GitHub/DataProcessing27/jl_notebook_cell_df34fa98e69747e1a8f8a730347b8e2f_X43sZmlsZQ==.jl:27"
     ]
    }
   ],
   "source": [
    "using LinearAlgebra\n",
    "\n",
    "function DU_KSVD(Y, D, C)\n",
    "    num_row, num_col = size(D)\n",
    "\n",
    "    for i in 1:num_col\n",
    "        # The omega_k isn't being extracted anywhere in this code I think?\n",
    "        subset = [j for j in 1:num_col if j != i]\n",
    "        D_subset = D[:, subset]\n",
    "        C_subset = C[subset, :]\n",
    "\n",
    "        E_k = Y - D_subset * C_subset\n",
    "        U, σ, V = svd(E_k; full = false)\n",
    "\n",
    "        d_k = U[:, 1]            \n",
    "        x_k = σ[1] * V'[1, :]  \n",
    "\n",
    "\n",
    "        D[:, i] = d_k\n",
    "        C[i, :] = x_k\n",
    "\n",
    "    end\n",
    "\n",
    "    return D, C\n",
    "end\n",
    "\n",
    "DU_KSVD(Y, D0, C0)\n"
   ]
  },
  {
   "cell_type": "markdown",
   "id": "20a0bdf2",
   "metadata": {},
   "source": [
    "### 2"
   ]
  },
  {
   "cell_type": "code",
   "execution_count": 35,
   "id": "d68ba955",
   "metadata": {},
   "outputs": [
    {
     "ename": "UndefVarError",
     "evalue": "UndefVarError: `Y` not defined in `Main`\nSuggestion: check for spelling errors or missing imports.",
     "output_type": "error",
     "traceback": [
      "UndefVarError: `Y` not defined in `Main`\n",
      "Suggestion: check for spelling errors or missing imports.\n",
      "\n",
      "Stacktrace:\n",
      " [1] top-level scope\n",
      "   @ ~/Documents/Topics/CW_GitHub/DataProcessing27/jl_notebook_cell_df34fa98e69747e1a8f8a730347b8e2f_X45sZmlsZQ==.jl:22"
     ]
    }
   ],
   "source": [
    "function K_SVD(Y, D0, C0)\n",
    "\n",
    "    D = D0\n",
    "    C_smp = C0\n",
    "    error_vec = zeros(50)\n",
    "    grad_vec = zeros(50)\n",
    "    \n",
    "    for i in 1:50\n",
    "\n",
    "        error, grad = compute_error_and_error_gradient(Y, D, C_smp)\n",
    "        error_vec[i] = error\n",
    "        grad_vec[i] = grad\n",
    "   \n",
    "        C_smp = construct_C_smp(D, Y, s, C_smp)\n",
    "        D, C_smp = DU_KSVD(Y, D, C_smp)\n",
    "\n",
    "    end\n",
    "\n",
    "    return C_smp, D, error_vec, grad_vec\n",
    "end\n",
    "\n",
    "C , D, error_vec, grad_vec = K_SVD(Y, D0, C0)"
   ]
  },
  {
   "cell_type": "markdown",
   "id": "a4ad055d",
   "metadata": {},
   "source": [
    "### 3"
   ]
  },
  {
   "cell_type": "code",
   "execution_count": 36,
   "id": "866b6c72",
   "metadata": {},
   "outputs": [],
   "source": []
  }
 ],
 "metadata": {
  "kernelspec": {
   "display_name": "Julia 1.11.0",
   "language": "julia",
   "name": "julia-1.11"
  },
  "language_info": {
   "file_extension": ".jl",
   "mimetype": "application/julia",
   "name": "julia",
   "version": "1.11.0"
  }
 },
 "nbformat": 4,
 "nbformat_minor": 5
}
